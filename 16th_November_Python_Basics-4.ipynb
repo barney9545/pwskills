{
 "cells": [
  {
   "cell_type": "markdown",
   "id": "f07496d5-a4f3-4ecb-b900-9060d9c72262",
   "metadata": {
    "tags": []
   },
   "source": [
    "##TOPIC: Python Basics Variable"
   ]
  },
  {
   "cell_type": "markdown",
   "id": "ad9f2826-f3d8-44c4-b57d-2c4dec13963e",
   "metadata": {},
   "source": [
    "Q1 :Declare two variables, `x` and `y`, and assign them integer values. Swap"
   ]
  },
  {
   "cell_type": "code",
   "execution_count": 1,
   "id": "ba9ecb29-356b-4dd8-9140-3c092fe03ac4",
   "metadata": {},
   "outputs": [],
   "source": [
    "x, y= 5, 7"
   ]
  },
  {
   "cell_type": "code",
   "execution_count": 2,
   "id": "cbb9bc34-163a-4e16-be48-db3377869105",
   "metadata": {},
   "outputs": [
    {
     "name": "stdout",
     "output_type": "stream",
     "text": [
      "5\n",
      "7\n"
     ]
    }
   ],
   "source": [
    "print (x)\n",
    "print (y)"
   ]
  },
  {
   "cell_type": "code",
   "execution_count": 3,
   "id": "d6fbbad8-4b5f-473b-82c9-dfc1aee6b759",
   "metadata": {},
   "outputs": [
    {
     "name": "stdout",
     "output_type": "stream",
     "text": [
      "7\n",
      "5\n"
     ]
    }
   ],
   "source": [
    "x,y = y,x\n",
    "print (x)\n",
    "print (y)"
   ]
  },
  {
   "cell_type": "markdown",
   "id": "4adb060c-eb83-40f0-ae5f-155bf4bf9b56",
   "metadata": {},
   "source": [
    "Q2 : Declare two variables, `x` and `y`, and assign them integer values. Swap"
   ]
  },
  {
   "cell_type": "code",
   "execution_count": 4,
   "id": "538346aa-2f77-4c52-a333-7fd9d98a8151",
   "metadata": {},
   "outputs": [
    {
     "name": "stdin",
     "output_type": "stream",
     "text": [
      " 5\n",
      " 6\n"
     ]
    },
    {
     "name": "stdout",
     "output_type": "stream",
     "text": [
      "30\n"
     ]
    }
   ],
   "source": [
    "l = int(input())\n",
    "b = int (input())\n",
    "area = l*b\n",
    "print(area)"
   ]
  },
  {
   "cell_type": "markdown",
   "id": "91450ca5-2217-45b8-bca3-a5a705df4275",
   "metadata": {},
   "source": [
    "Q3 : Write a Python program that converts temperatures from Celsius to\n",
    "Fahrenheit. Take the temperature in Celsius as input, store it in a variable,\n",
    "convert it to Fahrenheit, and display the result."
   ]
  },
  {
   "cell_type": "code",
   "execution_count": 5,
   "id": "d4605b70-a8d9-475a-ab4b-8c108ec0f684",
   "metadata": {},
   "outputs": [
    {
     "name": "stdin",
     "output_type": "stream",
     "text": [
      " 56\n"
     ]
    },
    {
     "name": "stdout",
     "output_type": "stream",
     "text": [
      "132.8\n"
     ]
    }
   ],
   "source": [
    "temp_cel= int(input())\n",
    "temp_far = (temp_cel* (9/5))+32\n",
    "print(temp_far)"
   ]
  },
  {
   "cell_type": "markdown",
   "id": "750e67e7-0905-4b0f-9b5c-1bd60e496f2a",
   "metadata": {},
   "source": [
    "##TOPIC: String Based Questions"
   ]
  },
  {
   "cell_type": "markdown",
   "id": "24d7336c-2d9e-453b-8c4f-1c8fc7293437",
   "metadata": {},
   "source": [
    "Q1:Write a Python program that takes a string as input and prints the length of the string."
   ]
  },
  {
   "cell_type": "code",
   "execution_count": 6,
   "id": "3c434631-deb1-43a4-aa67-dc6c0aeb22ed",
   "metadata": {},
   "outputs": [
    {
     "name": "stdin",
     "output_type": "stream",
     "text": [
      " length\n"
     ]
    },
    {
     "name": "stdout",
     "output_type": "stream",
     "text": [
      "6\n"
     ]
    }
   ],
   "source": [
    "s1= str(input())\n",
    "print(len(s1))"
   ]
  },
  {
   "cell_type": "markdown",
   "id": "b6139405-a02e-4162-92c1-5148e23e43fc",
   "metadata": {},
   "source": [
    "Q2: Create a program that takes a sentence from the user and counts the number\n",
    "of vowels (a, e, i, o, u) in the string."
   ]
  },
  {
   "cell_type": "code",
   "execution_count": 7,
   "id": "1dcb2e01-9a36-48c6-a06d-89113ae313b0",
   "metadata": {},
   "outputs": [
    {
     "name": "stdin",
     "output_type": "stream",
     "text": [
      " this is a sentence\n"
     ]
    },
    {
     "name": "stdout",
     "output_type": "stream",
     "text": [
      "6\n"
     ]
    }
   ],
   "source": [
    "s2 = str(input())\n",
    "c= s2.count('a') + s2.count('e')+ s2.count('i')+ s2.count('o')+ s2.count('u')\n",
    "\n",
    "print (c)"
   ]
  },
  {
   "cell_type": "markdown",
   "id": "fd65ab54-ff4f-47e6-9696-bfbdd73ca221",
   "metadata": {},
   "source": [
    "Q3: Given a string, reverse the order of characters using string slicing and print\n",
    "the reversed string."
   ]
  },
  {
   "cell_type": "code",
   "execution_count": 8,
   "id": "e8bd862c-7d4d-44fa-9996-83d661149ade",
   "metadata": {},
   "outputs": [
    {
     "data": {
      "text/plain": [
       "'gnirts esrever'"
      ]
     },
     "execution_count": 8,
     "metadata": {},
     "output_type": "execute_result"
    }
   ],
   "source": [
    "s3='reverse string'\n",
    "rev_s3 = s3[::-1]\n",
    "rev_s3"
   ]
  },
  {
   "cell_type": "markdown",
   "id": "70f78389-58a7-4e27-8c7a-b30599496880",
   "metadata": {},
   "source": [
    "Q4: Write a program that takes a string as input and checks if it is a palindrome\n",
    "(reads the same forwards and backwards)."
   ]
  },
  {
   "cell_type": "code",
   "execution_count": 9,
   "id": "14130b7c-f70b-495f-9f44-51c6d9f8de35",
   "metadata": {},
   "outputs": [
    {
     "name": "stdin",
     "output_type": "stream",
     "text": [
      " palindrome\n"
     ]
    },
    {
     "name": "stdout",
     "output_type": "stream",
     "text": [
      "this is not a palindrome\n"
     ]
    }
   ],
   "source": [
    "s4 = str(input())\n",
    "if s4== s4[::-1]:\n",
    "    print('this is a palindrome')\n",
    "else:\n",
    "    print('this is not a palindrome')"
   ]
  },
  {
   "cell_type": "markdown",
   "id": "1574e3c7-34aa-4cd8-8901-1c0aa76f27c5",
   "metadata": {},
   "source": [
    "Q5: Create a program that takes a string as input and removes all the spaces from\n",
    "it. Print the modified string without spaces."
   ]
  },
  {
   "cell_type": "code",
   "execution_count": 10,
   "id": "fd709c32-30b7-4d6e-aa28-59ea742afa50",
   "metadata": {},
   "outputs": [
    {
     "name": "stdin",
     "output_type": "stream",
     "text": [
      " this is a sentence\n"
     ]
    },
    {
     "name": "stdout",
     "output_type": "stream",
     "text": [
      "thisisasentence\n"
     ]
    }
   ],
   "source": [
    "s5 = str(input())\n",
    "print(s5.replace(\" \",\"\"))"
   ]
  },
  {
   "cell_type": "code",
   "execution_count": null,
   "id": "dead112f-d602-4091-9212-e8755eba78d5",
   "metadata": {},
   "outputs": [],
   "source": []
  }
 ],
 "metadata": {
  "kernelspec": {
   "display_name": "Python 3 (ipykernel)",
   "language": "python",
   "name": "python3"
  },
  "language_info": {
   "codemirror_mode": {
    "name": "ipython",
    "version": 3
   },
   "file_extension": ".py",
   "mimetype": "text/x-python",
   "name": "python",
   "nbconvert_exporter": "python",
   "pygments_lexer": "ipython3",
   "version": "3.10.8"
  }
 },
 "nbformat": 4,
 "nbformat_minor": 5
}
