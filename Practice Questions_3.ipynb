{
 "cells": [
  {
   "cell_type": "code",
   "execution_count": 1,
   "id": "6538857c",
   "metadata": {},
   "outputs": [],
   "source": [
    "# Problem 1: Write a program to reverse a string.\n",
    "def reverse_string(string):\n",
    "    return string[::-1]"
   ]
  },
  {
   "cell_type": "code",
   "execution_count": 2,
   "id": "a152da67",
   "metadata": {},
   "outputs": [
    {
     "name": "stdout",
     "output_type": "stream",
     "text": [
      "dlrow olleh\n"
     ]
    }
   ],
   "source": [
    "original_string = \"hello world\"\n",
    "reversed_string = reverse_string(original_string)\n",
    "print(reversed_string)"
   ]
  },
  {
   "cell_type": "code",
   "execution_count": 3,
   "id": "d4c93cee",
   "metadata": {},
   "outputs": [],
   "source": [
    "# Problem 2: Check if a string is a palindrome.\n",
    "def is_palindrome(string):\n",
    "    return string == string[::-1]"
   ]
  },
  {
   "cell_type": "code",
   "execution_count": 4,
   "id": "d576059d",
   "metadata": {},
   "outputs": [
    {
     "name": "stdout",
     "output_type": "stream",
     "text": [
      "True\n"
     ]
    }
   ],
   "source": [
    "string = \"radar\"\n",
    "print(is_palindrome(string))"
   ]
  },
  {
   "cell_type": "code",
   "execution_count": 5,
   "id": "c045738b",
   "metadata": {},
   "outputs": [
    {
     "name": "stdout",
     "output_type": "stream",
     "text": [
      "HELLO WORLD\n"
     ]
    }
   ],
   "source": [
    "# Problem 3: Convert a string to uppercase.\n",
    "string = \"hello world\"\n",
    "uppercase_string = string.upper()\n",
    "print(uppercase_string)"
   ]
  },
  {
   "cell_type": "code",
   "execution_count": 6,
   "id": "073d4147",
   "metadata": {},
   "outputs": [
    {
     "name": "stdout",
     "output_type": "stream",
     "text": [
      "hello world\n"
     ]
    }
   ],
   "source": [
    "# Problem 4: Convert a string to lowercase.\n",
    "string = \"HELLO WORLD\"\n",
    "lowercase_string = string.lower()\n",
    "print(lowercase_string)"
   ]
  },
  {
   "cell_type": "code",
   "execution_count": 7,
   "id": "382c09fd",
   "metadata": {},
   "outputs": [],
   "source": [
    "# Problem 5: Count the number of vowels in a string.\n",
    "def count_vowels(string):\n",
    "    vowels = 'aeiouAEIOU'\n",
    "    return sum(1 for char in string if char in vowels)"
   ]
  },
  {
   "cell_type": "code",
   "execution_count": 8,
   "id": "62f62841",
   "metadata": {},
   "outputs": [
    {
     "name": "stdout",
     "output_type": "stream",
     "text": [
      "3\n"
     ]
    }
   ],
   "source": [
    "string = \"Hello World\"\n",
    "print(count_vowels(string))"
   ]
  },
  {
   "cell_type": "code",
   "execution_count": 9,
   "id": "5192cb69",
   "metadata": {},
   "outputs": [],
   "source": [
    "# Problem 6: Count the number of consonants in a string.\n",
    "def count_consonants(string):\n",
    "    consonants = 'bcdfghjklmnpqrstvwxyzBCDFGHJKLMNPQRSTVWXYZ'\n",
    "    return sum(1 for char in string if char in consonants)"
   ]
  },
  {
   "cell_type": "code",
   "execution_count": 10,
   "id": "71d17126",
   "metadata": {},
   "outputs": [
    {
     "name": "stdout",
     "output_type": "stream",
     "text": [
      "7\n"
     ]
    }
   ],
   "source": [
    "string = \"Hello World\"\n",
    "print(count_consonants(string))"
   ]
  },
  {
   "cell_type": "code",
   "execution_count": 11,
   "id": "901fca48",
   "metadata": {},
   "outputs": [
    {
     "name": "stdout",
     "output_type": "stream",
     "text": [
      "helloworld\n"
     ]
    }
   ],
   "source": [
    "# Problem 7: Remove all whitespaces from a string.\n",
    "string = \"hello world\"\n",
    "no_whitespace_string = string.replace(\" \", \"\")\n",
    "print(no_whitespace_string)"
   ]
  },
  {
   "cell_type": "code",
   "execution_count": 12,
   "id": "d78cd2a8",
   "metadata": {},
   "outputs": [
    {
     "name": "stdout",
     "output_type": "stream",
     "text": [
      "11\n"
     ]
    }
   ],
   "source": [
    "# Problem 8: Find the length of a string without using the `len()` function.\n",
    "string = \"hello world\"\n",
    "length = sum(1 for char in string)\n",
    "print(length)"
   ]
  },
  {
   "cell_type": "code",
   "execution_count": 13,
   "id": "5773348e",
   "metadata": {},
   "outputs": [
    {
     "name": "stdout",
     "output_type": "stream",
     "text": [
      "True\n"
     ]
    }
   ],
   "source": [
    "# Problem 9: Check if a string contains a specific word.\n",
    "string = \"hello world\"\n",
    "specific_word = \"world\"\n",
    "contains_word = specific_word in string\n",
    "print(contains_word)"
   ]
  },
  {
   "cell_type": "code",
   "execution_count": 14,
   "id": "5f9efbaa",
   "metadata": {},
   "outputs": [
    {
     "name": "stdout",
     "output_type": "stream",
     "text": [
      "hello universe\n"
     ]
    }
   ],
   "source": [
    "# Problem 10: Replace a word in a string with another word.\n",
    "string = \"hello world\"\n",
    "replaced_string = string.replace(\"world\", \"universe\")\n",
    "print(replaced_string)"
   ]
  },
  {
   "cell_type": "code",
   "execution_count": 15,
   "id": "c5525f41",
   "metadata": {},
   "outputs": [
    {
     "name": "stdout",
     "output_type": "stream",
     "text": [
      "2\n"
     ]
    }
   ],
   "source": [
    "# Problem 11: Count the occurrences of a word in a string.\n",
    "string = \"hello world hello\"\n",
    "word_to_count = \"hello\"\n",
    "count = string.count(word_to_count)\n",
    "print(count)"
   ]
  },
  {
   "cell_type": "code",
   "execution_count": 16,
   "id": "ef16c40e",
   "metadata": {},
   "outputs": [
    {
     "name": "stdout",
     "output_type": "stream",
     "text": [
      "0\n"
     ]
    }
   ],
   "source": [
    "# Problem 12: Find the first occurrence of a word in a string.\n",
    "string = \"hello world hello\"\n",
    "word_to_find = \"hello\"\n",
    "first_occurrence = string.find(word_to_find)\n",
    "print(first_occurrence)"
   ]
  },
  {
   "cell_type": "code",
   "execution_count": 17,
   "id": "db8da24a",
   "metadata": {},
   "outputs": [
    {
     "name": "stdout",
     "output_type": "stream",
     "text": [
      "12\n"
     ]
    }
   ],
   "source": [
    "# Problem 13: Find the last occurrence of a word in a string.\n",
    "string = \"hello world hello\"\n",
    "word_to_find = \"hello\"\n",
    "last_occurrence = string.rfind(word_to_find)\n",
    "print(last_occurrence)"
   ]
  },
  {
   "cell_type": "code",
   "execution_count": 18,
   "id": "978a4398",
   "metadata": {},
   "outputs": [
    {
     "name": "stdout",
     "output_type": "stream",
     "text": [
      "['hello', 'world']\n"
     ]
    }
   ],
   "source": [
    "# Problem 14: Split a string into a list of words.\n",
    "string = \"hello world\"\n",
    "word_list = string.split()\n",
    "print(word_list)"
   ]
  },
  {
   "cell_type": "code",
   "execution_count": 19,
   "id": "3b83e8be",
   "metadata": {},
   "outputs": [
    {
     "name": "stdout",
     "output_type": "stream",
     "text": [
      "hello world\n"
     ]
    }
   ],
   "source": [
    "# Problem 15: Join a list of words into a string.\n",
    "word_list = [\"hello\", \"world\"]\n",
    "string = ' '.join(word_list)\n",
    "print(string)"
   ]
  },
  {
   "cell_type": "code",
   "execution_count": 20,
   "id": "15334b83",
   "metadata": {},
   "outputs": [
    {
     "name": "stdout",
     "output_type": "stream",
     "text": [
      "hello_world\n"
     ]
    }
   ],
   "source": [
    "# Problem 16: Convert a string where words are separated by spaces to one where words are separated by underscores.\n",
    "string = \"hello world\"\n",
    "underscore_string = string.replace(\" \", \"_\")\n",
    "print(underscore_string)"
   ]
  },
  {
   "cell_type": "code",
   "execution_count": 21,
   "id": "26317897",
   "metadata": {},
   "outputs": [
    {
     "name": "stdout",
     "output_type": "stream",
     "text": [
      "True\n"
     ]
    }
   ],
   "source": [
    "# Problem 17: Check if a string starts with a specific word or phrase.\n",
    "string = \"hello world\"\n",
    "starts_with_hello = string.startswith(\"hello\")\n",
    "print(starts_with_hello)"
   ]
  },
  {
   "cell_type": "code",
   "execution_count": 22,
   "id": "c6a20fc4",
   "metadata": {},
   "outputs": [
    {
     "name": "stdout",
     "output_type": "stream",
     "text": [
      "True\n"
     ]
    }
   ],
   "source": [
    "# Problem 18: Check if a string ends with a specific word or phrase.\n",
    "string = \"hello world\"\n",
    "ends_with_world = string.endswith(\"world\")\n",
    "print(ends_with_world)"
   ]
  },
  {
   "cell_type": "code",
   "execution_count": 23,
   "id": "871130ac",
   "metadata": {},
   "outputs": [
    {
     "name": "stdout",
     "output_type": "stream",
     "text": [
      "Hello World\n"
     ]
    }
   ],
   "source": [
    "# Problem 19: Convert a string to title case (e.g., \"hello world\" to \"Hello World\").\n",
    "string = \"hello world\"\n",
    "title_case_string = string.title()\n",
    "print(title_case_string)"
   ]
  },
  {
   "cell_type": "code",
   "execution_count": 24,
   "id": "8828d902",
   "metadata": {},
   "outputs": [
    {
     "name": "stdout",
     "output_type": "stream",
     "text": [
      "hello\n"
     ]
    }
   ],
   "source": [
    "# Problem 20: Find the longest word in a string.\n",
    "string = \"hello world\"\n",
    "longest_word = max(string.split(), key=len)\n",
    "print(longest_word)"
   ]
  },
  {
   "cell_type": "code",
   "execution_count": 25,
   "id": "b8a0aceb",
   "metadata": {},
   "outputs": [
    {
     "name": "stdout",
     "output_type": "stream",
     "text": [
      "hello\n"
     ]
    }
   ],
   "source": [
    "# Problem 21: Find the shortest word in a string.\n",
    "string = \"hello world\"\n",
    "shortest_word = min(string.split(), key=len)\n",
    "print(shortest_word)"
   ]
  },
  {
   "cell_type": "code",
   "execution_count": 26,
   "id": "1a841748",
   "metadata": {},
   "outputs": [
    {
     "name": "stdout",
     "output_type": "stream",
     "text": [
      "world hello\n"
     ]
    }
   ],
   "source": [
    "# Problem 22: Reverse the order of words in a string.\n",
    "string = \"hello world\"\n",
    "reversed_words_string = ' '.join(string.split()[::-1])\n",
    "print(reversed_words_string)"
   ]
  },
  {
   "cell_type": "code",
   "execution_count": 27,
   "id": "25183ab9",
   "metadata": {},
   "outputs": [
    {
     "name": "stdout",
     "output_type": "stream",
     "text": [
      "True\n"
     ]
    }
   ],
   "source": [
    "# Problem 23: Check if a string is alphanumeric.\n",
    "string = \"hello123\"\n",
    "is_alphanumeric = string.isalnum()\n",
    "print(is_alphanumeric)"
   ]
  },
  {
   "cell_type": "code",
   "execution_count": 28,
   "id": "5235ee98",
   "metadata": {},
   "outputs": [
    {
     "name": "stdout",
     "output_type": "stream",
     "text": [
      "['1', '2', '3']\n"
     ]
    }
   ],
   "source": [
    "# Problem 24: Extract all digits from a string.\n",
    "import re\n",
    "string = \"hello123\"\n",
    "digits = re.findall(r'\\d', string)\n",
    "print(digits)"
   ]
  },
  {
   "cell_type": "code",
   "execution_count": 29,
   "id": "3e416e84",
   "metadata": {},
   "outputs": [
    {
     "name": "stdout",
     "output_type": "stream",
     "text": [
      "['h', 'e', 'l', 'l', 'o']\n"
     ]
    }
   ],
   "source": [
    "# Problem 25: Extract all alphabets from a string.\n",
    "string = \"hello123\"\n",
    "alphabets = re.findall(r'[a-zA-Z]', string)\n",
    "print(alphabets)"
   ]
  },
  {
   "cell_type": "code",
   "execution_count": 30,
   "id": "376675d7",
   "metadata": {},
   "outputs": [
    {
     "name": "stdout",
     "output_type": "stream",
     "text": [
      "2\n"
     ]
    }
   ],
   "source": [
    "# Problem 26: Count the number of uppercase letters in a string.\n",
    "string = \"Hello World\"\n",
    "uppercase_count = sum(1 for char in string if char.isupper())\n",
    "print(uppercase_count)"
   ]
  },
  {
   "cell_type": "code",
   "execution_count": 31,
   "id": "4aaa9217",
   "metadata": {},
   "outputs": [
    {
     "name": "stdout",
     "output_type": "stream",
     "text": [
      "8\n"
     ]
    }
   ],
   "source": [
    "# Problem 27: Count the number of lowercase letters in a string.\n",
    "string = \"Hello World\"\n",
    "lowercase_count = sum(1 for char in string if char.islower())\n",
    "print(lowercase_count)"
   ]
  },
  {
   "cell_type": "code",
   "execution_count": 32,
   "id": "96c4d800",
   "metadata": {},
   "outputs": [
    {
     "name": "stdout",
     "output_type": "stream",
     "text": [
      "hELLO wORLD\n"
     ]
    }
   ],
   "source": [
    "# Problem 28: Swap the case of each character in a string.\n",
    "string = \"Hello World\"\n",
    "swapped_case_string = string.swapcase()\n",
    "print(swapped_case_string)"
   ]
  },
  {
   "cell_type": "code",
   "execution_count": 33,
   "id": "a33b0cbe",
   "metadata": {},
   "outputs": [
    {
     "name": "stdout",
     "output_type": "stream",
     "text": [
      "hello \n"
     ]
    }
   ],
   "source": [
    "# Problem 29: Remove a specific word from a string.\n",
    "string = \"hello world\"\n",
    "word_to_remove = \"world\"\n",
    "removed_string = string.replace(word_to_remove, \"\")\n",
    "print(removed_string)"
   ]
  },
  {
   "cell_type": "code",
   "execution_count": 34,
   "id": "7dafeb0c",
   "metadata": {},
   "outputs": [],
   "source": [
    "# Problem 30: Check if a string is a valid email address.\n",
    "import re\n",
    "def is_valid_email(email):\n",
    "    pattern = r'^[a-zA-Z0-9._%+-]+@[a-zA-Z0-9.-]+\\.[a-zA-Z]{2,}$'\n",
    "    return bool(re.match(pattern, email))"
   ]
  },
  {
   "cell_type": "code",
   "execution_count": 35,
   "id": "fc57661a",
   "metadata": {},
   "outputs": [
    {
     "name": "stdout",
     "output_type": "stream",
     "text": [
      "True\n"
     ]
    }
   ],
   "source": [
    "email = \"example@example.com\"\n",
    "print(is_valid_email(email))"
   ]
  },
  {
   "cell_type": "code",
   "execution_count": 36,
   "id": "a2892b71",
   "metadata": {},
   "outputs": [],
   "source": [
    "# Problem 31: Extract the username from an email address string.\n",
    "import re\n",
    "def extract_username(email):\n",
    "    pattern = r'^([a-zA-Z0-9._%+-]+)@[a-zA-Z0-9.-]+\\.[a-zA-Z]{2,}$'\n",
    "    match = re.match(pattern, email)\n",
    "    if match:\n",
    "        return match.group(1)\n",
    "    else:\n",
    "        return None"
   ]
  },
  {
   "cell_type": "code",
   "execution_count": 37,
   "id": "25ff5321",
   "metadata": {},
   "outputs": [
    {
     "name": "stdout",
     "output_type": "stream",
     "text": [
      "example\n"
     ]
    }
   ],
   "source": [
    "email = \"example@example.com\"\n",
    "username = extract_username(email)\n",
    "print(username)"
   ]
  },
  {
   "cell_type": "code",
   "execution_count": 38,
   "id": "0a658a44",
   "metadata": {},
   "outputs": [],
   "source": [
    "# Problem 32: Extract the domain name from an email address string.\n",
    "import re\n",
    "def extract_domain(email):\n",
    "    pattern = r'^[a-zA-Z0-9._%+-]+@([a-zA-Z0-9.-]+)\\.[a-zA-Z]{2,}$'\n",
    "    match = re.match(pattern, email)\n",
    "    if match:\n",
    "        return match.group(1)\n",
    "    else:\n",
    "        return None"
   ]
  },
  {
   "cell_type": "code",
   "execution_count": 39,
   "id": "6e628fe1",
   "metadata": {},
   "outputs": [
    {
     "name": "stdout",
     "output_type": "stream",
     "text": [
      "example\n"
     ]
    }
   ],
   "source": [
    "email = \"example@example.com\"\n",
    "domain = extract_domain(email)\n",
    "print(domain)"
   ]
  },
  {
   "cell_type": "code",
   "execution_count": 40,
   "id": "db3b5587",
   "metadata": {},
   "outputs": [],
   "source": [
    "# Problem 33: Replace multiple spaces in a string with a single space.\n",
    "import re\n",
    "def replace_multiple_spaces(string):\n",
    "    return re.sub(r'\\s+', ' ', string)"
   ]
  },
  {
   "cell_type": "code",
   "execution_count": 41,
   "id": "6d1c4364",
   "metadata": {},
   "outputs": [
    {
     "name": "stdout",
     "output_type": "stream",
     "text": [
      "hello world\n"
     ]
    }
   ],
   "source": [
    "string = \"hello    world\"\n",
    "new_string = replace_multiple_spaces(string)\n",
    "print(new_string)"
   ]
  },
  {
   "cell_type": "code",
   "execution_count": 42,
   "id": "6ca417c7",
   "metadata": {},
   "outputs": [],
   "source": [
    "# Problem 34: Check if a string is a valid URL.\n",
    "import re\n",
    "def is_valid_url(url):\n",
    "    pattern = r'^(http|https):\\/\\/[a-zA-Z0-9\\-\\.]+\\.[a-zA-Z]{2,}(\\/\\S*)?$'\n",
    "    return bool(re.match(pattern, url))"
   ]
  },
  {
   "cell_type": "code",
   "execution_count": 43,
   "id": "4669f889",
   "metadata": {},
   "outputs": [
    {
     "name": "stdout",
     "output_type": "stream",
     "text": [
      "True\n"
     ]
    }
   ],
   "source": [
    "url = \"https://www.example.com\"\n",
    "print(is_valid_url(url))"
   ]
  },
  {
   "cell_type": "code",
   "execution_count": 44,
   "id": "069674ad",
   "metadata": {},
   "outputs": [],
   "source": [
    "# Problem 35: Extract the protocol (http or https) from a URL string.\n",
    "import re\n",
    "def extract_protocol(url):\n",
    "    pattern = r'^(http|https):\\/\\/'\n",
    "    match = re.match(pattern, url)\n",
    "    if match:\n",
    "        return match.group(1)\n",
    "    else:\n",
    "        return None"
   ]
  },
  {
   "cell_type": "code",
   "execution_count": 45,
   "id": "2b5e3247",
   "metadata": {},
   "outputs": [
    {
     "name": "stdout",
     "output_type": "stream",
     "text": [
      "https\n"
     ]
    }
   ],
   "source": [
    "url = \"https://www.example.com\"\n",
    "protocol = extract_protocol(url)\n",
    "print(protocol)"
   ]
  },
  {
   "cell_type": "code",
   "execution_count": 46,
   "id": "d0966110",
   "metadata": {},
   "outputs": [],
   "source": [
    "# Problem 36: Find the frequency of each character in a string.\n",
    "def character_frequency(string):\n",
    "    frequency = {}\n",
    "    for char in string:\n",
    "        if char in frequency:\n",
    "            frequency[char] += 1\n",
    "        else:\n",
    "            frequency[char] = 1\n",
    "    return frequency"
   ]
  },
  {
   "cell_type": "code",
   "execution_count": 47,
   "id": "8cfbf007",
   "metadata": {},
   "outputs": [
    {
     "name": "stdout",
     "output_type": "stream",
     "text": [
      "{'h': 1, 'e': 1, 'l': 3, 'o': 2, ' ': 1, 'w': 1, 'r': 1, 'd': 1}\n"
     ]
    }
   ],
   "source": [
    "string = \"hello world\"\n",
    "frequency = character_frequency(string)\n",
    "print(frequency)"
   ]
  },
  {
   "cell_type": "code",
   "execution_count": 50,
   "id": "70961307",
   "metadata": {},
   "outputs": [
    {
     "data": {
      "text/plain": [
       "'httpsgraydentisthsruapwskillsapplabtreeworkAssignmentsString20Based20Assignment20ipynb'"
      ]
     },
     "execution_count": 50,
     "metadata": {},
     "output_type": "execute_result"
    }
   ],
   "source": [
    "# Problem 37: Remove all punctuation from a string.\n",
    "url ='https://gray-dentist-hsrua.pwskills.app/lab/tree/work/Assignments/String%20Based%20Assignment%20.ipynb'\n",
    "import string\n",
    "table = url.maketrans(\"\",\"\",string.punctuation)\n",
    "\n",
    "url.translate(table)"
   ]
  },
  {
   "cell_type": "code",
   "execution_count": 51,
   "id": "5a0dc629",
   "metadata": {},
   "outputs": [],
   "source": [
    "# Problem 38: Check if a string contains only digits.\n",
    "def contains_only_digits(string):\n",
    "    return string.isdigit()"
   ]
  },
  {
   "cell_type": "code",
   "execution_count": 52,
   "id": "80a85637",
   "metadata": {},
   "outputs": [
    {
     "name": "stdout",
     "output_type": "stream",
     "text": [
      "True\n"
     ]
    }
   ],
   "source": [
    "string = \"12345\"\n",
    "print(contains_only_digits(string))"
   ]
  },
  {
   "cell_type": "code",
   "execution_count": 53,
   "id": "c2488504",
   "metadata": {},
   "outputs": [],
   "source": [
    "# Problem 39: Check if a string contains only alphabets.\n",
    "def contains_only_alphabets(string):\n",
    "    return string.isalpha()"
   ]
  },
  {
   "cell_type": "code",
   "execution_count": 54,
   "id": "a112cfeb",
   "metadata": {},
   "outputs": [
    {
     "name": "stdout",
     "output_type": "stream",
     "text": [
      "True\n"
     ]
    }
   ],
   "source": [
    "string = \"hello\"\n",
    "print(contains_only_alphabets(string))"
   ]
  },
  {
   "cell_type": "code",
   "execution_count": 55,
   "id": "2cd081e1",
   "metadata": {},
   "outputs": [
    {
     "name": "stdout",
     "output_type": "stream",
     "text": [
      "['h', 'e', 'l', 'l', 'o']\n"
     ]
    }
   ],
   "source": [
    "# Problem 40: Convert a string to a list of characters.\n",
    "string = \"hello\"\n",
    "character_list = list(string)\n",
    "print(character_list)"
   ]
  },
  {
   "cell_type": "code",
   "execution_count": 56,
   "id": "84012d92",
   "metadata": {},
   "outputs": [],
   "source": [
    "# Problem 41: Check if two strings are anagrams.\n",
    "def are_anagrams(string1, string2):\n",
    "    return sorted(string1) == sorted(string2)"
   ]
  },
  {
   "cell_type": "code",
   "execution_count": 57,
   "id": "0bae3b4b",
   "metadata": {},
   "outputs": [
    {
     "name": "stdout",
     "output_type": "stream",
     "text": [
      "True\n"
     ]
    }
   ],
   "source": [
    "string1 = \"listen\"\n",
    "string2 = \"silent\"\n",
    "print(are_anagrams(string1, string2))"
   ]
  },
  {
   "cell_type": "code",
   "execution_count": 58,
   "id": "a5253dda",
   "metadata": {},
   "outputs": [],
   "source": [
    "# Problem 42: Encode a string using a Caesar cipher.\n",
    "def caesar_cipher_encrypt(string, shift):\n",
    "    encrypted_string = ''\n",
    "    for char in string:\n",
    "        if char.isalpha():\n",
    "            shifted = ord(char) + shift\n",
    "            if char.islower():\n",
    "                if shifted > ord('z'):\n",
    "                    shifted -= 26\n",
    "                encrypted_string += chr(shifted)\n",
    "            elif char.isupper():\n",
    "                if shifted > ord('Z'):\n",
    "                    shifted -= 26\n",
    "                encrypted_string += chr(shifted)\n",
    "        else:\n",
    "            encrypted_string += char\n",
    "    return encrypted_string"
   ]
  },
  {
   "cell_type": "code",
   "execution_count": 59,
   "id": "55627cbb",
   "metadata": {},
   "outputs": [
    {
     "name": "stdout",
     "output_type": "stream",
     "text": [
      "khoor\n"
     ]
    }
   ],
   "source": [
    "string = \"hello\"\n",
    "encrypted_string = caesar_cipher_encrypt(string, 3)\n",
    "print(encrypted_string)"
   ]
  },
  {
   "cell_type": "code",
   "execution_count": 60,
   "id": "b7c4316c",
   "metadata": {},
   "outputs": [],
   "source": [
    "# Problem 43: Decode a Caesar cipher encoded string.\n",
    "def caesar_cipher_decrypt(string, shift):\n",
    "    decrypted_string = ''\n",
    "    for char in string:\n",
    "        if char.isalpha():\n",
    "            shifted = ord(char) - shift\n",
    "            if char.islower():\n",
    "                if shifted < ord('a'):\n",
    "                    shifted += 26\n",
    "                decrypted_string += chr(shifted)\n",
    "            elif char.isupper():\n",
    "                if shifted < ord('A'):\n",
    "                    shifted += 26\n",
    "                decrypted_string += chr(shifted)\n",
    "        else:\n",
    "            decrypted_string += char\n",
    "    return decrypted_string"
   ]
  },
  {
   "cell_type": "code",
   "execution_count": 61,
   "id": "8c5ff44c",
   "metadata": {},
   "outputs": [
    {
     "name": "stdout",
     "output_type": "stream",
     "text": [
      "hello\n"
     ]
    }
   ],
   "source": [
    "string = \"khoor\"\n",
    "decrypted_string = caesar_cipher_decrypt(string, 3)\n",
    "print(decrypted_string)"
   ]
  },
  {
   "cell_type": "code",
   "execution_count": 62,
   "id": "5b2d48b6",
   "metadata": {},
   "outputs": [],
   "source": [
    "# Problem 44: Find the most frequent word in a string.\n",
    "def most_frequent_word(string):\n",
    "    words = string.split()\n",
    "    frequency = {}\n",
    "    for word in words:\n",
    "        if word in frequency:\n",
    "            frequency[word] += 1\n",
    "        else:\n",
    "            frequency[word] = 1\n",
    "    return max(frequency, key=frequency.get)"
   ]
  },
  {
   "cell_type": "code",
   "execution_count": 63,
   "id": "60498dc7",
   "metadata": {},
   "outputs": [
    {
     "name": "stdout",
     "output_type": "stream",
     "text": [
      "hello\n"
     ]
    }
   ],
   "source": [
    "string = \"hello world hello\"\n",
    "most_frequent = most_frequent_word(string)\n",
    "print(most_frequent)"
   ]
  },
  {
   "cell_type": "code",
   "execution_count": 64,
   "id": "2036438c",
   "metadata": {},
   "outputs": [],
   "source": [
    "# Problem 45: Find all unique words in a string.\n",
    "def unique_words(string):\n",
    "    words = string.split()\n",
    "    return set(words)"
   ]
  },
  {
   "cell_type": "code",
   "execution_count": 65,
   "id": "815f178f",
   "metadata": {},
   "outputs": [
    {
     "name": "stdout",
     "output_type": "stream",
     "text": [
      "{'hello', 'world'}\n"
     ]
    }
   ],
   "source": [
    "string = \"hello world hello\"\n",
    "unique = unique_words(string)\n",
    "print(unique)"
   ]
  },
  {
   "cell_type": "code",
   "execution_count": 66,
   "id": "6b69a57d",
   "metadata": {},
   "outputs": [],
   "source": [
    "# Problem 46: Count the number of syllables in a string.\n",
    "def count_syllables(string):\n",
    "    syllables = 0\n",
    "    vowels = 'aeiouyAEIOUY'\n",
    "    prev_char_was_vowel = False\n",
    "    for char in string:\n",
    "        if char in vowels:\n",
    "            if not prev_char_was_vowel:\n",
    "                syllables += 1\n",
    "            prev_char_was_vowel = True\n",
    "        else:\n",
    "            prev_char_was_vowel = False\n",
    "    return syllables"
   ]
  },
  {
   "cell_type": "code",
   "execution_count": 67,
   "id": "d65be4b5",
   "metadata": {},
   "outputs": [
    {
     "name": "stdout",
     "output_type": "stream",
     "text": [
      "2\n"
     ]
    }
   ],
   "source": [
    "string = \"hello\"\n",
    "syllables = count_syllables(string)\n",
    "print(syllables)"
   ]
  },
  {
   "cell_type": "code",
   "execution_count": 76,
   "id": "9a19c5b3",
   "metadata": {},
   "outputs": [],
   "source": [
    "# Problem 47: Check if a string contains any special characters.\n",
    "import string as st\n",
    "def contains_special_characters(a):\n",
    "    special_characters = st.punctuation\n",
    "    for char in a:\n",
    "        if char in special_characters:\n",
    "            return True\n",
    "    return False\n",
    "\n"
   ]
  },
  {
   "cell_type": "code",
   "execution_count": 77,
   "id": "877bcb2b",
   "metadata": {},
   "outputs": [
    {
     "name": "stdout",
     "output_type": "stream",
     "text": [
      "True\n"
     ]
    }
   ],
   "source": [
    "string = \"hello!@#$%\"\n",
    "print(contains_special_characters(string))"
   ]
  },
  {
   "cell_type": "code",
   "execution_count": 78,
   "id": "59cafc09",
   "metadata": {},
   "outputs": [],
   "source": [
    "# Problem 48: Remove the nth word from a string.\n",
    "def remove_nth_word(string, n):\n",
    "    words = string.split()\n",
    "    if 0 <= n < len(words):\n",
    "        del words[n]\n",
    "    return ' '.join(words)"
   ]
  },
  {
   "cell_type": "code",
   "execution_count": 79,
   "id": "abfeb773",
   "metadata": {},
   "outputs": [
    {
     "name": "stdout",
     "output_type": "stream",
     "text": [
      "hello world are you\n"
     ]
    }
   ],
   "source": [
    "string = \"hello world how are you\"\n",
    "new_string = remove_nth_word(string, 2)\n",
    "print(new_string)"
   ]
  },
  {
   "cell_type": "code",
   "execution_count": 80,
   "id": "c7ef0eea",
   "metadata": {},
   "outputs": [],
   "source": [
    "# Problem 49: Insert a word at the nth position in a string.\n",
    "def insert_word(string, word, n):\n",
    "    words = string.split()\n",
    "    words.insert(n, word)\n",
    "    return ' '.join(words)"
   ]
  },
  {
   "cell_type": "code",
   "execution_count": 81,
   "id": "bfa5381c",
   "metadata": {},
   "outputs": [
    {
     "name": "stdout",
     "output_type": "stream",
     "text": [
      "hello world are how you\n"
     ]
    }
   ],
   "source": [
    "string = \"hello world how you\"\n",
    "new_string = insert_word(string, \"are\", 2)\n",
    "print(new_string)"
   ]
  },
  {
   "cell_type": "code",
   "execution_count": 82,
   "id": "7807623b",
   "metadata": {},
   "outputs": [],
   "source": [
    "# Problem 50: Convert a CSV string to a list of lists.\n",
    "def csv_to_list(csv_string):\n",
    "    return [row.split(',') for row in csv_string.split('\\n') if row]"
   ]
  },
  {
   "cell_type": "code",
   "execution_count": 83,
   "id": "d14228d7",
   "metadata": {},
   "outputs": [
    {
     "name": "stdout",
     "output_type": "stream",
     "text": [
      "[['1', '2', '3'], ['4', '5', '6'], ['7', '8', '9']]\n"
     ]
    }
   ],
   "source": [
    "csv_string = \"1,2,3\\n4,5,6\\n7,8,9\"\n",
    "list_of_lists = csv_to_list(csv_string)\n",
    "print(list_of_lists)"
   ]
  },
  {
   "cell_type": "code",
   "execution_count": 84,
   "id": "44aa5868",
   "metadata": {},
   "outputs": [
    {
     "name": "stdout",
     "output_type": "stream",
     "text": [
      "[1, 2, 3, 4, 5, 6, 7, 8, 9, 10]\n"
     ]
    }
   ],
   "source": [
    "# List Based Practice Problem:\n",
    "# Problem 1: Create a list with integers from 1 to 10.\n",
    "integer_list = list(range(1, 11))\n",
    "print(integer_list)"
   ]
  },
  {
   "cell_type": "code",
   "execution_count": 85,
   "id": "3ee95828",
   "metadata": {},
   "outputs": [],
   "source": [
    "# Problem 2: Find the length of a list without using the `len()` function.\n",
    "def length_of_list(lst):\n",
    "    count = 0\n",
    "    for _ in lst:\n",
    "        count += 1\n",
    "    return count"
   ]
  },
  {
   "cell_type": "code",
   "execution_count": 86,
   "id": "5441ea8d",
   "metadata": {},
   "outputs": [
    {
     "name": "stdout",
     "output_type": "stream",
     "text": [
      "10\n"
     ]
    }
   ],
   "source": [
    "integer_list = [1, 2, 3, 4, 5, 6, 7, 8, 9, 10]\n",
    "length = length_of_list(integer_list)\n",
    "print(length)"
   ]
  },
  {
   "cell_type": "code",
   "execution_count": 87,
   "id": "494a2f13",
   "metadata": {},
   "outputs": [
    {
     "name": "stdout",
     "output_type": "stream",
     "text": [
      "[1, 2, 3, 4, 5, 6]\n"
     ]
    }
   ],
   "source": [
    "# Problem 3: Append an element to the end of a list.\n",
    "integer_list = [1, 2, 3, 4, 5]\n",
    "integer_list.append(6)\n",
    "print(integer_list)"
   ]
  },
  {
   "cell_type": "code",
   "execution_count": 88,
   "id": "b8abab91",
   "metadata": {},
   "outputs": [
    {
     "name": "stdout",
     "output_type": "stream",
     "text": [
      "[1, 2, 10, 3, 4, 5]\n"
     ]
    }
   ],
   "source": [
    "# Problem 4: Insert an element at a specific index in a list.\n",
    "integer_list = [1, 2, 3, 4, 5]\n",
    "integer_list.insert(2, 10)\n",
    "print(integer_list)"
   ]
  },
  {
   "cell_type": "code",
   "execution_count": 89,
   "id": "dabc898d",
   "metadata": {},
   "outputs": [
    {
     "name": "stdout",
     "output_type": "stream",
     "text": [
      "[1, 2, 4, 5]\n"
     ]
    }
   ],
   "source": [
    "# Problem 5: Remove an element from a list by its value.\n",
    "integer_list = [1, 2, 3, 4, 5]\n",
    "integer_list.remove(3)\n",
    "print(integer_list)"
   ]
  },
  {
   "cell_type": "code",
   "execution_count": 90,
   "id": "5b1746fa",
   "metadata": {},
   "outputs": [
    {
     "name": "stdout",
     "output_type": "stream",
     "text": [
      "[1, 2, 3, 5]\n"
     ]
    }
   ],
   "source": [
    "# Problem 6: Remove an element from a list by its index.\n",
    "integer_list = [1, 2, 3, 4, 5]\n",
    "del integer_list[3]\n",
    "print(integer_list)"
   ]
  },
  {
   "cell_type": "code",
   "execution_count": 91,
   "id": "d503aa19",
   "metadata": {},
   "outputs": [
    {
     "name": "stdout",
     "output_type": "stream",
     "text": [
      "True\n"
     ]
    }
   ],
   "source": [
    "# Problem 7: Check if an element exists in a list.\n",
    "integer_list = [1, 2, 3, 4, 5]\n",
    "exists = 3 in integer_list\n",
    "print(exists)"
   ]
  },
  {
   "cell_type": "code",
   "execution_count": 92,
   "id": "e3e7e643",
   "metadata": {},
   "outputs": [
    {
     "name": "stdout",
     "output_type": "stream",
     "text": [
      "2\n"
     ]
    }
   ],
   "source": [
    "# Problem 8: Find the index of the first occurrence of an element in a list.\n",
    "integer_list = [1, 2, 3, 4, 5]\n",
    "index = integer_list.index(3)\n",
    "print(index)"
   ]
  },
  {
   "cell_type": "code",
   "execution_count": 93,
   "id": "612104ef",
   "metadata": {},
   "outputs": [
    {
     "name": "stdout",
     "output_type": "stream",
     "text": [
      "3\n"
     ]
    }
   ],
   "source": [
    "# Problem 9: Count the occurrences of an element in a list.\n",
    "integer_list = [1, 2, 3, 4, 5, 3, 3]\n",
    "count = integer_list.count(3)\n",
    "print(count)"
   ]
  },
  {
   "cell_type": "code",
   "execution_count": 94,
   "id": "9ce301ef",
   "metadata": {},
   "outputs": [
    {
     "name": "stdout",
     "output_type": "stream",
     "text": [
      "[5, 4, 3, 2, 1]\n"
     ]
    }
   ],
   "source": [
    "# Problem 10: Reverse the order of elements in a list.\n",
    "integer_list = [1, 2, 3, 4, 5]\n",
    "integer_list.reverse()\n",
    "print(integer_list)"
   ]
  },
  {
   "cell_type": "code",
   "execution_count": 95,
   "id": "8b7c7bcd",
   "metadata": {},
   "outputs": [
    {
     "name": "stdout",
     "output_type": "stream",
     "text": [
      "[1, 2, 3, 4, 5]\n"
     ]
    }
   ],
   "source": [
    "# Problem 11: Sort a list in ascending order.\n",
    "integer_list = [3, 1, 4, 2, 5]\n",
    "integer_list.sort()\n",
    "print(integer_list)"
   ]
  },
  {
   "cell_type": "code",
   "execution_count": 96,
   "id": "ae913448",
   "metadata": {},
   "outputs": [
    {
     "name": "stdout",
     "output_type": "stream",
     "text": [
      "[5, 4, 3, 2, 1]\n"
     ]
    }
   ],
   "source": [
    "# Problem 12: Sort a list in descending order.\n",
    "integer_list = [3, 1, 4, 2, 5]\n",
    "integer_list.sort(reverse=True)\n",
    "print(integer_list)"
   ]
  },
  {
   "cell_type": "code",
   "execution_count": 97,
   "id": "be84ef05",
   "metadata": {},
   "outputs": [
    {
     "name": "stdout",
     "output_type": "stream",
     "text": [
      "[2, 4, 6, 8, 10, 12, 14, 16, 18, 20]\n"
     ]
    }
   ],
   "source": [
    "# Problem 13: Create a list of even numbers from 1 to 20.\n",
    "even_numbers = [i for i in range(2, 21, 2)]\n",
    "print(even_numbers)"
   ]
  },
  {
   "cell_type": "code",
   "execution_count": 98,
   "id": "cbab7ecc",
   "metadata": {},
   "outputs": [
    {
     "name": "stdout",
     "output_type": "stream",
     "text": [
      "[1, 3, 5, 7, 9, 11, 13, 15, 17, 19]\n"
     ]
    }
   ],
   "source": [
    "# Problem 14: Create a list of odd numbers from 1 to 20.\n",
    "odd_numbers = [i for i in range(1, 21, 2)]\n",
    "print(odd_numbers)"
   ]
  },
  {
   "cell_type": "code",
   "execution_count": 99,
   "id": "46449fb7",
   "metadata": {},
   "outputs": [
    {
     "name": "stdout",
     "output_type": "stream",
     "text": [
      "15\n"
     ]
    }
   ],
   "source": [
    "# Problem 15: Find the sum of all elements in a list.\n",
    "integer_list = [1, 2, 3, 4, 5]\n",
    "total = sum(integer_list)\n",
    "print(total)"
   ]
  },
  {
   "cell_type": "code",
   "execution_count": 100,
   "id": "5990dd49",
   "metadata": {},
   "outputs": [
    {
     "name": "stdout",
     "output_type": "stream",
     "text": [
      "5\n"
     ]
    }
   ],
   "source": [
    "# Problem 16: Find the maximum value in a list.\n",
    "integer_list = [1, 2, 3, 4, 5]\n",
    "maximum = max(integer_list)\n",
    "print(maximum)"
   ]
  },
  {
   "cell_type": "code",
   "execution_count": 101,
   "id": "a2cf7d1b",
   "metadata": {},
   "outputs": [
    {
     "name": "stdout",
     "output_type": "stream",
     "text": [
      "1\n"
     ]
    }
   ],
   "source": [
    "# Problem 17: Find the minimum value in a list.\n",
    "integer_list = [1, 2, 3, 4, 5]\n",
    "minimum = min(integer_list)\n",
    "print(minimum)"
   ]
  },
  {
   "cell_type": "code",
   "execution_count": 102,
   "id": "a5c1ad90",
   "metadata": {},
   "outputs": [
    {
     "name": "stdout",
     "output_type": "stream",
     "text": [
      "[1, 4, 9, 16, 25, 36, 49, 64, 81, 100]\n"
     ]
    }
   ],
   "source": [
    "# Problem 18: Create a list of squares of numbers from 1 to 10.\n",
    "squared_numbers = [i**2 for i in range(1, 11)]\n",
    "print(squared_numbers)"
   ]
  },
  {
   "cell_type": "code",
   "execution_count": 103,
   "id": "ec877f6d",
   "metadata": {},
   "outputs": [
    {
     "name": "stdout",
     "output_type": "stream",
     "text": [
      "[86, 94, 13, 78, 83, 50, 92, 38, 92, 65]\n"
     ]
    }
   ],
   "source": [
    "# Problem 19: Create a list of random numbers.\n",
    "import random\n",
    "random_numbers = [random.randint(1, 100) for _ in range(10)]\n",
    "print(random_numbers)"
   ]
  },
  {
   "cell_type": "code",
   "execution_count": 104,
   "id": "07a38ede",
   "metadata": {},
   "outputs": [
    {
     "name": "stdout",
     "output_type": "stream",
     "text": [
      "[1, 2, 3, 4, 5]\n"
     ]
    }
   ],
   "source": [
    "# Problem 20: Remove duplicates from a list.\n",
    "integer_list = [1, 2, 3, 3, 4, 4, 5, 5]\n",
    "unique_list = list(set(integer_list))\n",
    "print(unique_list)"
   ]
  },
  {
   "cell_type": "code",
   "execution_count": 105,
   "id": "f3a8578d",
   "metadata": {},
   "outputs": [
    {
     "name": "stdout",
     "output_type": "stream",
     "text": [
      "[4, 5]\n"
     ]
    }
   ],
   "source": [
    "# Problem 21: Find the common elements between two lists.\n",
    "list1 = [1, 2, 3, 4, 5]\n",
    "list2 = [4, 5, 6, 7, 8]\n",
    "common_elements = list(set(list1) & set(list2))\n",
    "print(common_elements)"
   ]
  },
  {
   "cell_type": "code",
   "execution_count": 106,
   "id": "634c0c60",
   "metadata": {},
   "outputs": [
    {
     "name": "stdout",
     "output_type": "stream",
     "text": [
      "[1, 2, 3]\n"
     ]
    }
   ],
   "source": [
    "# Problem 22: Find the difference between two lists.\n",
    "list1 = [1, 2, 3, 4, 5]\n",
    "list2 = [4, 5, 6, 7, 8]\n",
    "difference = list(set(list1) - set(list2))\n",
    "print(difference)"
   ]
  },
  {
   "cell_type": "code",
   "execution_count": 107,
   "id": "ac36be2a",
   "metadata": {},
   "outputs": [
    {
     "name": "stdout",
     "output_type": "stream",
     "text": [
      "[1, 2, 3, 4, 5, 6]\n"
     ]
    }
   ],
   "source": [
    "# Problem 23: Merge two lists.\n",
    "list1 = [1, 2, 3]\n",
    "list2 = [4, 5, 6]\n",
    "merged_list = list1 + list2\n",
    "print(merged_list)"
   ]
  },
  {
   "cell_type": "code",
   "execution_count": 108,
   "id": "5c9edb9a",
   "metadata": {},
   "outputs": [
    {
     "name": "stdout",
     "output_type": "stream",
     "text": [
      "[2, 4, 6, 8, 10]\n"
     ]
    }
   ],
   "source": [
    "# Problem 24: Multiply all elements in a list by 2.\n",
    "integer_list = [1, 2, 3, 4, 5]\n",
    "doubled_list = [x * 2 for x in integer_list]\n",
    "print(doubled_list)"
   ]
  },
  {
   "cell_type": "code",
   "execution_count": 109,
   "id": "b4ab5be2",
   "metadata": {},
   "outputs": [
    {
     "name": "stdout",
     "output_type": "stream",
     "text": [
      "[1, 3, 5]\n"
     ]
    }
   ],
   "source": [
    "# Problem 25: Filter out all even numbers from a list.\n",
    "integer_list = [1, 2, 3, 4, 5]\n",
    "filtered_list = [x for x in integer_list if x % 2 != 0]\n",
    "print(filtered_list)"
   ]
  },
  {
   "cell_type": "code",
   "execution_count": 110,
   "id": "ce5086d4",
   "metadata": {},
   "outputs": [
    {
     "name": "stdout",
     "output_type": "stream",
     "text": [
      "[1, 2, 3, 4, 5]\n"
     ]
    }
   ],
   "source": [
    "# 26. Convert a list of strings to a list of integers.\n",
    "string_list = [\"1\", \"2\", \"3\", \"4\", \"5\"]\n",
    "integer_list = list(map(int, string_list))\n",
    "print(integer_list)"
   ]
  },
  {
   "cell_type": "code",
   "execution_count": 111,
   "id": "59d6290a",
   "metadata": {},
   "outputs": [
    {
     "name": "stdout",
     "output_type": "stream",
     "text": [
      "['1', '2', '3', '4', '5']\n"
     ]
    }
   ],
   "source": [
    "# 27. Convert a list of integers to a list of strings.\n",
    "integer_list = [1, 2, 3, 4, 5]\n",
    "string_list = list(map(str, integer_list))\n",
    "print(string_list)"
   ]
  },
  {
   "cell_type": "code",
   "execution_count": 112,
   "id": "7ab44155",
   "metadata": {},
   "outputs": [
    {
     "name": "stdout",
     "output_type": "stream",
     "text": [
      "[1, 2, 3, 4, 5, 6, 7, 8]\n"
     ]
    }
   ],
   "source": [
    "# 28. Flatten a nested list.\n",
    "nested_list = [[1, 2, 3], [4, 5], [6, 7, 8]]\n",
    "flattened_list = [item for sublist in nested_list for item in sublist]\n",
    "print(flattened_list)"
   ]
  },
  {
   "cell_type": "code",
   "execution_count": 113,
   "id": "cb5c25ef",
   "metadata": {},
   "outputs": [],
   "source": [
    "# 29. Create a list of the first 10 Fibonacci numbers.\n",
    "def generate_fibonacci(n):\n",
    "    fibonacci_list = [0, 1]\n",
    "    while len(fibonacci_list) < n:\n",
    "        fibonacci_list.append(fibonacci_list[-1] + fibonacci_list[-2])\n",
    "    return fibonacci_list"
   ]
  },
  {
   "cell_type": "code",
   "execution_count": 114,
   "id": "818ae95d",
   "metadata": {},
   "outputs": [
    {
     "name": "stdout",
     "output_type": "stream",
     "text": [
      "[0, 1, 1, 2, 3, 5, 8, 13, 21, 34]\n"
     ]
    }
   ],
   "source": [
    "fibonacci_numbers = generate_fibonacci(10)\n",
    "print(fibonacci_numbers)"
   ]
  },
  {
   "cell_type": "code",
   "execution_count": 115,
   "id": "f9bd8beb",
   "metadata": {},
   "outputs": [],
   "source": [
    "# 30. Check if a list is sorted.\n",
    "def is_sorted(lst):\n",
    "    return all(lst[i] <= lst[i+1] for i in range(len(lst)-1))"
   ]
  },
  {
   "cell_type": "code",
   "execution_count": 116,
   "id": "07e6aa8b",
   "metadata": {},
   "outputs": [
    {
     "name": "stdout",
     "output_type": "stream",
     "text": [
      "True\n",
      "False\n"
     ]
    }
   ],
   "source": [
    "print(is_sorted([1, 2, 3, 4, 5]))  # True\n",
    "print(is_sorted([5, 4, 3, 2, 1]))  # False"
   ]
  },
  {
   "cell_type": "code",
   "execution_count": 117,
   "id": "417044e9",
   "metadata": {},
   "outputs": [],
   "source": [
    "# 31. Rotate a list to the left by `n` positions.\n",
    "def rotate_left(lst, n):\n",
    "    n = n % len(lst)\n",
    "    return lst[n:] + lst[:n]"
   ]
  },
  {
   "cell_type": "code",
   "execution_count": 118,
   "id": "c7b134bf",
   "metadata": {},
   "outputs": [
    {
     "name": "stdout",
     "output_type": "stream",
     "text": [
      "[3, 4, 5, 1, 2]\n"
     ]
    }
   ],
   "source": [
    "print(rotate_left([1, 2, 3, 4, 5], 2))  # [3, 4, 5, 1, 2]"
   ]
  },
  {
   "cell_type": "code",
   "execution_count": 119,
   "id": "c55ffcff",
   "metadata": {},
   "outputs": [],
   "source": [
    "# 32. Rotate a list to the right by `n` positions.\n",
    "def rotate_right(lst, n):\n",
    "    n = n % len(lst)\n",
    "    return lst[-n:] + lst[:-n]"
   ]
  },
  {
   "cell_type": "code",
   "execution_count": 120,
   "id": "e08f93e4",
   "metadata": {},
   "outputs": [
    {
     "name": "stdout",
     "output_type": "stream",
     "text": [
      "[4, 5, 1, 2, 3]\n"
     ]
    }
   ],
   "source": [
    "print(rotate_right([1, 2, 3, 4, 5], 2))  # [4, 5, 1, 2, 3]"
   ]
  },
  {
   "cell_type": "code",
   "execution_count": 121,
   "id": "42c1fc9d",
   "metadata": {},
   "outputs": [],
   "source": [
    "# 33. Create a list of prime numbers up to 50.\n",
    "def is_prime(num):\n",
    "    if num < 2:\n",
    "        return False\n",
    "    for i in range(2, int(num**0.5) + 1):\n",
    "        if num % i == 0:\n",
    "            return False\n",
    "    return True"
   ]
  },
  {
   "cell_type": "code",
   "execution_count": 122,
   "id": "a6d511b1",
   "metadata": {},
   "outputs": [
    {
     "name": "stdout",
     "output_type": "stream",
     "text": [
      "[2, 3, 5, 7, 11, 13, 17, 19, 23, 29, 31, 37, 41, 43, 47]\n"
     ]
    }
   ],
   "source": [
    "prime_numbers = [num for num in range(2, 51) if is_prime(num)]\n",
    "print(prime_numbers)"
   ]
  },
  {
   "cell_type": "code",
   "execution_count": 123,
   "id": "ae7e157c",
   "metadata": {},
   "outputs": [],
   "source": [
    "# 34. Split a list into chunks of size `n`.\n",
    "def chunk_list(lst, n):\n",
    "    return [lst[i:i+n] for i in range(0, len(lst), n)]"
   ]
  },
  {
   "cell_type": "code",
   "execution_count": 124,
   "id": "16e82dc7",
   "metadata": {},
   "outputs": [
    {
     "name": "stdout",
     "output_type": "stream",
     "text": [
      "[[1, 2, 3], [4, 5, 6], [7, 8, 9]]\n"
     ]
    }
   ],
   "source": [
    "print(chunk_list([1, 2, 3, 4, 5, 6, 7, 8, 9], 3))  # [[1, 2, 3], [4, 5, 6], [7, 8, 9]]"
   ]
  },
  {
   "cell_type": "code",
   "execution_count": 125,
   "id": "fe19d669",
   "metadata": {},
   "outputs": [],
   "source": [
    "# 35. Find the second largest number in a list.\n",
    "def second_largest(lst):\n",
    "    unique_nums = sorted(set(lst), reverse=True)\n",
    "    if len(unique_nums) > 1:\n",
    "        return unique_nums[1]\n",
    "    else:\n",
    "        return None"
   ]
  },
  {
   "cell_type": "code",
   "execution_count": 126,
   "id": "f6f40f36",
   "metadata": {},
   "outputs": [
    {
     "name": "stdout",
     "output_type": "stream",
     "text": [
      "4\n"
     ]
    }
   ],
   "source": [
    "print(second_largest([1, 2, 3, 4, 5]))  # 4"
   ]
  },
  {
   "cell_type": "code",
   "execution_count": 127,
   "id": "38770b76",
   "metadata": {},
   "outputs": [
    {
     "name": "stdout",
     "output_type": "stream",
     "text": [
      "[1, 4, 9, 16, 25]\n"
     ]
    }
   ],
   "source": [
    "# 36. Replace every element in a list with its square.\n",
    "original_list = [1, 2, 3, 4, 5]\n",
    "squared_list = [x**2 for x in original_list]\n",
    "print(squared_list)"
   ]
  },
  {
   "cell_type": "code",
   "execution_count": 128,
   "id": "ba97b2e8",
   "metadata": {},
   "outputs": [
    {
     "name": "stdout",
     "output_type": "stream",
     "text": [
      "{'a': 0, 'b': 1, 'c': 2, 'd': 3}\n"
     ]
    }
   ],
   "source": [
    "# 37. Convert a list to a dictionary where list elements become keys and their indices become values.\n",
    "my_list = ['a', 'b', 'c', 'd']\n",
    "my_dict = {value: index for index, value in enumerate(my_list)}\n",
    "print(my_dict)"
   ]
  },
  {
   "cell_type": "code",
   "execution_count": 129,
   "id": "ff25d3ec",
   "metadata": {},
   "outputs": [
    {
     "name": "stdout",
     "output_type": "stream",
     "text": [
      "[3, 2, 5, 1, 4]\n"
     ]
    }
   ],
   "source": [
    "# 38. Shuffle the elements of a list randomly.\n",
    "import random\n",
    "my_list = [1, 2, 3, 4, 5]\n",
    "random.shuffle(my_list)\n",
    "print(my_list)"
   ]
  },
  {
   "cell_type": "code",
   "execution_count": 130,
   "id": "7b82c95b",
   "metadata": {},
   "outputs": [
    {
     "name": "stdout",
     "output_type": "stream",
     "text": [
      "[1, 1, 2, 6, 24, 120, 720, 5040, 40320, 362880]\n"
     ]
    }
   ],
   "source": [
    "# 39. Create a list of the first 10 factorial numbers.\n",
    "import math\n",
    "factorial_numbers = [math.factorial(i) for i in range(10)]\n",
    "print(factorial_numbers)"
   ]
  },
  {
   "cell_type": "code",
   "execution_count": 131,
   "id": "e9673f5d",
   "metadata": {},
   "outputs": [
    {
     "name": "stdout",
     "output_type": "stream",
     "text": [
      "set()\n",
      "{5}\n"
     ]
    }
   ],
   "source": [
    "# 40. Check if two lists have at least one element in common.\n",
    "list1 = [1, 2, 3, 4, 5]\n",
    "list2 = [6, 7, 8, 9, 10]\n",
    "list3 = [5, 6, 7, 8, 9]\n",
    "print(set(list1) & set(list2))  # Empty set\n",
    "print(set(list1) & set(list3))  # {5}"
   ]
  },
  {
   "cell_type": "code",
   "execution_count": 132,
   "id": "9095bb06",
   "metadata": {},
   "outputs": [
    {
     "name": "stdout",
     "output_type": "stream",
     "text": [
      "[]\n"
     ]
    }
   ],
   "source": [
    "# 41. Remove all elements from a list.\n",
    "my_list = [1, 2, 3, 4, 5]\n",
    "my_list.clear()\n",
    "print(my_list)"
   ]
  },
  {
   "cell_type": "code",
   "execution_count": 133,
   "id": "1142057c",
   "metadata": {},
   "outputs": [
    {
     "name": "stdout",
     "output_type": "stream",
     "text": [
      "[1, 0, 3, 0, 5, 0]\n"
     ]
    }
   ],
   "source": [
    "# 42. Replace negative numbers in a list with 0.\n",
    "original_list = [1, -2, 3, -4, 5, -6]\n",
    "modified_list = [x if x >= 0 else 0 for x in original_list]\n",
    "print(modified_list)"
   ]
  },
  {
   "cell_type": "code",
   "execution_count": 134,
   "id": "31368303",
   "metadata": {},
   "outputs": [
    {
     "name": "stdout",
     "output_type": "stream",
     "text": [
      "['Hello,', 'world!', 'This', 'is', 'a', 'test.']\n"
     ]
    }
   ],
   "source": [
    "# 43. Convert a string into a list of words.\n",
    "my_string = \"Hello, world! This is a test.\"\n",
    "word_list = my_string.split()\n",
    "print(word_list)"
   ]
  },
  {
   "cell_type": "code",
   "execution_count": 135,
   "id": "4c6cea16",
   "metadata": {},
   "outputs": [
    {
     "name": "stdout",
     "output_type": "stream",
     "text": [
      "Hello, world! This is a test.\n"
     ]
    }
   ],
   "source": [
    "# 44. Convert a list of words into a string.\n",
    "word_list = ['Hello,', 'world!', 'This', 'is', 'a', 'test.']\n",
    "my_string = ' '.join(word_list)\n",
    "print(my_string)"
   ]
  },
  {
   "cell_type": "code",
   "execution_count": 136,
   "id": "9bc9ceb5",
   "metadata": {},
   "outputs": [
    {
     "name": "stdout",
     "output_type": "stream",
     "text": [
      "[1, 2, 4, 8, 16]\n"
     ]
    }
   ],
   "source": [
    "# 45. Create a list of the first `n` powers of 2.\n",
    "n = 5\n",
    "powers_of_2 = [2**i for i in range(n)]\n",
    "print(powers_of_2)"
   ]
  },
  {
   "cell_type": "code",
   "execution_count": 137,
   "id": "6dac3bb7",
   "metadata": {},
   "outputs": [
    {
     "name": "stdout",
     "output_type": "stream",
     "text": [
      "strawberry\n"
     ]
    }
   ],
   "source": [
    "# 46. Find the longest string in a list of strings.\n",
    "string_list = [\"apple\", \"banana\", \"orange\", \"strawberry\"]\n",
    "longest_string = max(string_list, key=len)\n",
    "print(longest_string)"
   ]
  },
  {
   "cell_type": "code",
   "execution_count": 138,
   "id": "a7dbaed5",
   "metadata": {},
   "outputs": [
    {
     "name": "stdout",
     "output_type": "stream",
     "text": [
      "apple\n"
     ]
    }
   ],
   "source": [
    "# 47. Find the shortest string in a list of strings.\n",
    "string_list = [\"apple\", \"banana\", \"orange\", \"strawberry\"]\n",
    "shortest_string = min(string_list, key=len)\n",
    "print(shortest_string)"
   ]
  },
  {
   "cell_type": "code",
   "execution_count": 139,
   "id": "4a29769d",
   "metadata": {},
   "outputs": [],
   "source": [
    "# 48. Create a list of the first `n` triangular numbers.\n",
    "def triangular_number(n):\n",
    "    return [i*(i+1)//2 for i in range(1, n+1)]"
   ]
  },
  {
   "cell_type": "code",
   "execution_count": 140,
   "id": "2e9443a5",
   "metadata": {},
   "outputs": [
    {
     "name": "stdout",
     "output_type": "stream",
     "text": [
      "[1, 3, 6, 10, 15]\n"
     ]
    }
   ],
   "source": [
    "print(triangular_number(5))"
   ]
  },
  {
   "cell_type": "code",
   "execution_count": 141,
   "id": "b6c5cca6",
   "metadata": {},
   "outputs": [],
   "source": [
    "# 49. Check if a list contains another list as a subsequence.\n",
    "def is_subsequence(sub, lst):\n",
    "    sub_iter = iter(sub)\n",
    "    return all(item in lst for item in sub_iter)"
   ]
  },
  {
   "cell_type": "code",
   "execution_count": 142,
   "id": "8ff99f1c",
   "metadata": {},
   "outputs": [
    {
     "name": "stdout",
     "output_type": "stream",
     "text": [
      "True\n",
      "False\n"
     ]
    }
   ],
   "source": [
    "print(is_subsequence([2, 3, 4], [1, 2, 3, 4, 5]))  # True\n",
    "print(is_subsequence([2, 4, 6], [1, 2, 3, 4]))  # False"
   ]
  },
  {
   "cell_type": "code",
   "execution_count": 143,
   "id": "8f7d24a5",
   "metadata": {},
   "outputs": [],
   "source": [
    "# 50. Swap two elements in a list by their indices.\n",
    "def swap_elements(lst, index1, index2):\n",
    "    lst[index1], lst[index2] = lst[index2], lst[index1]"
   ]
  },
  {
   "cell_type": "code",
   "execution_count": 144,
   "id": "3e57f90d",
   "metadata": {},
   "outputs": [
    {
     "name": "stdout",
     "output_type": "stream",
     "text": [
      "[1, 4, 3, 2, 5]\n"
     ]
    }
   ],
   "source": [
    "my_list = [1, 2, 3, 4, 5]\n",
    "swap_elements(my_list, 1, 3)\n",
    "print(my_list)  # [1, 4, 3, 2, 5]"
   ]
  },
  {
   "cell_type": "code",
   "execution_count": 145,
   "id": "67bde711",
   "metadata": {},
   "outputs": [
    {
     "name": "stdout",
     "output_type": "stream",
     "text": [
      "(1, 2, 3, 4, 5)\n"
     ]
    }
   ],
   "source": [
    "##Tuple Based Practice Problem :\n",
    "# 1. Create a tuple with integers from 1 to 5.\n",
    "my_tuple = (1, 2, 3, 4, 5)\n",
    "print(my_tuple)"
   ]
  },
  {
   "cell_type": "code",
   "execution_count": 146,
   "id": "0530a1ac",
   "metadata": {},
   "outputs": [
    {
     "name": "stdout",
     "output_type": "stream",
     "text": [
      "3\n"
     ]
    }
   ],
   "source": [
    "# 2. Access the third element of a tuple.\n",
    "third_element = my_tuple[2]\n",
    "print(third_element)"
   ]
  },
  {
   "cell_type": "code",
   "execution_count": 147,
   "id": "cf603e90",
   "metadata": {},
   "outputs": [
    {
     "name": "stdout",
     "output_type": "stream",
     "text": [
      "5\n"
     ]
    }
   ],
   "source": [
    "# 3. Find the length of a tuple without using the `len()` function.\n",
    "tuple_length = sum(1 for _ in my_tuple)\n",
    "print(tuple_length)"
   ]
  },
  {
   "cell_type": "code",
   "execution_count": 148,
   "id": "6586df32",
   "metadata": {},
   "outputs": [
    {
     "name": "stdout",
     "output_type": "stream",
     "text": [
      "1\n"
     ]
    }
   ],
   "source": [
    "# 4. Count the occurrences of an element in a tuple.\n",
    "element_count = my_tuple.count(3)\n",
    "print(element_count)"
   ]
  },
  {
   "cell_type": "code",
   "execution_count": 149,
   "id": "5b8a3a72",
   "metadata": {},
   "outputs": [
    {
     "name": "stdout",
     "output_type": "stream",
     "text": [
      "2\n"
     ]
    }
   ],
   "source": [
    "# 5. Find the index of the first occurrence of an element in a tuple.\n",
    "index = my_tuple.index(3)\n",
    "print(index)"
   ]
  },
  {
   "cell_type": "code",
   "execution_count": 150,
   "id": "64c77a30",
   "metadata": {},
   "outputs": [
    {
     "name": "stdout",
     "output_type": "stream",
     "text": [
      "True\n"
     ]
    }
   ],
   "source": [
    "# 6. Check if an element exists in a tuple.\n",
    "element_exists = 3 in my_tuple\n",
    "print(element_exists)"
   ]
  },
  {
   "cell_type": "code",
   "execution_count": 151,
   "id": "485e7530",
   "metadata": {},
   "outputs": [
    {
     "name": "stdout",
     "output_type": "stream",
     "text": [
      "[1, 2, 3, 4, 5]\n"
     ]
    }
   ],
   "source": [
    "# 7. Convert a tuple to a list.\n",
    "my_list = list(my_tuple)\n",
    "print(my_list)"
   ]
  },
  {
   "cell_type": "code",
   "execution_count": 152,
   "id": "70cf4111",
   "metadata": {},
   "outputs": [
    {
     "name": "stdout",
     "output_type": "stream",
     "text": [
      "(1, 2, 3, 4, 5)\n"
     ]
    }
   ],
   "source": [
    "# 8. Convert a list to a tuple.\n",
    "my_tuple = tuple(my_list)\n",
    "print(my_tuple)"
   ]
  },
  {
   "cell_type": "code",
   "execution_count": 153,
   "id": "cd44f81c",
   "metadata": {},
   "outputs": [
    {
     "name": "stdout",
     "output_type": "stream",
     "text": [
      "1 2 3 4 5\n"
     ]
    }
   ],
   "source": [
    "# 9. Unpack the elements of a tuple into variables.\n",
    "a, b, c, d, e = my_tuple\n",
    "print(a, b, c, d, e)"
   ]
  },
  {
   "cell_type": "code",
   "execution_count": 154,
   "id": "fd74956f",
   "metadata": {},
   "outputs": [
    {
     "name": "stdout",
     "output_type": "stream",
     "text": [
      "(2, 4, 6, 8, 10)\n"
     ]
    }
   ],
   "source": [
    "# 10. Create a tuple of even numbers from 1 to 10.\n",
    "even_numbers = tuple(num for num in range(1, 11) if num % 2 == 0)\n",
    "print(even_numbers)"
   ]
  },
  {
   "cell_type": "code",
   "execution_count": 155,
   "id": "f9d86475",
   "metadata": {},
   "outputs": [
    {
     "name": "stdout",
     "output_type": "stream",
     "text": [
      "(1, 3, 5, 7, 9)\n"
     ]
    }
   ],
   "source": [
    "# 11. Create a tuple of odd numbers from 1 to 10.\n",
    "odd_numbers = tuple(num for num in range(1, 11) if num % 2 != 0)\n",
    "print(odd_numbers)"
   ]
  },
  {
   "cell_type": "code",
   "execution_count": 156,
   "id": "29772e34",
   "metadata": {},
   "outputs": [
    {
     "name": "stdout",
     "output_type": "stream",
     "text": [
      "(1, 2, 3, 4, 5, 6)\n"
     ]
    }
   ],
   "source": [
    "# 12. Concatenate two tuples.\n",
    "tuple1 = (1, 2, 3)\n",
    "tuple2 = (4, 5, 6)\n",
    "concatenated_tuple = tuple1 + tuple2\n",
    "print(concatenated_tuple)"
   ]
  },
  {
   "cell_type": "code",
   "execution_count": 157,
   "id": "073a3241",
   "metadata": {},
   "outputs": [
    {
     "name": "stdout",
     "output_type": "stream",
     "text": [
      "(1, 2, 3, 4, 5, 1, 2, 3, 4, 5, 1, 2, 3, 4, 5)\n"
     ]
    }
   ],
   "source": [
    "# 13. Repeat a tuple three times.\n",
    "repeated_tuple = my_tuple * 3\n",
    "print(repeated_tuple)"
   ]
  },
  {
   "cell_type": "code",
   "execution_count": 158,
   "id": "35de6e7b",
   "metadata": {},
   "outputs": [
    {
     "name": "stdout",
     "output_type": "stream",
     "text": [
      "True\n"
     ]
    }
   ],
   "source": [
    "# 14. Check if a tuple is empty.\n",
    "empty_tuple = ()\n",
    "is_empty = not bool(empty_tuple)\n",
    "print(is_empty)"
   ]
  },
  {
   "cell_type": "code",
   "execution_count": 159,
   "id": "f63eb9bf",
   "metadata": {},
   "outputs": [
    {
     "name": "stdout",
     "output_type": "stream",
     "text": [
      "((1, 2), (3, 4), (5, 6))\n"
     ]
    }
   ],
   "source": [
    "# 15. Create a nested tuple.\n",
    "nested_tuple = ((1, 2), (3, 4), (5, 6))\n",
    "print(nested_tuple)"
   ]
  },
  {
   "cell_type": "code",
   "execution_count": 160,
   "id": "4c739d92",
   "metadata": {},
   "outputs": [
    {
     "name": "stdout",
     "output_type": "stream",
     "text": [
      "1\n"
     ]
    }
   ],
   "source": [
    "# 16. Access the first element of a nested tuple.\n",
    "first_element = nested_tuple[0][0]\n",
    "print(first_element)"
   ]
  },
  {
   "cell_type": "code",
   "execution_count": 161,
   "id": "644e9237",
   "metadata": {},
   "outputs": [
    {
     "name": "stdout",
     "output_type": "stream",
     "text": [
      "(1,)\n"
     ]
    }
   ],
   "source": [
    "# 17. Create a tuple with a single element.\n",
    "single_element_tuple = (1,)\n",
    "print(single_element_tuple)"
   ]
  },
  {
   "cell_type": "code",
   "execution_count": 162,
   "id": "a9ce5d15",
   "metadata": {},
   "outputs": [
    {
     "name": "stdout",
     "output_type": "stream",
     "text": [
      "-1\n"
     ]
    }
   ],
   "source": [
    "# 18. Compare two tuples.\n",
    "tuple1 = (1, 2, 3)\n",
    "tuple2 = (1, 2, 4)\n",
    "comparison_result = (tuple1 > tuple2) - (tuple1 < tuple2)\n",
    "print(comparison_result)"
   ]
  },
  {
   "cell_type": "code",
   "execution_count": 163,
   "id": "d53a3d2d",
   "metadata": {},
   "outputs": [],
   "source": [
    "# 19. Delete a tuple.\n",
    "del my_tuple\n",
    "# my_tuple is now deleted."
   ]
  },
  {
   "cell_type": "code",
   "execution_count": 164,
   "id": "30b794ef",
   "metadata": {},
   "outputs": [
    {
     "name": "stdout",
     "output_type": "stream",
     "text": [
      "(3, 4)\n"
     ]
    }
   ],
   "source": [
    "# 20. Slice a tuple.\n",
    "my_tuple = (1, 2, 3, 4, 5)\n",
    "sliced_tuple = my_tuple[2:4]\n",
    "print(sliced_tuple)"
   ]
  },
  {
   "cell_type": "code",
   "execution_count": 165,
   "id": "6e650eee",
   "metadata": {},
   "outputs": [
    {
     "name": "stdout",
     "output_type": "stream",
     "text": [
      "5\n"
     ]
    }
   ],
   "source": [
    "# 21. Find the maximum value in a tuple.\n",
    "max_value = max(my_tuple)\n",
    "print(max_value)"
   ]
  },
  {
   "cell_type": "code",
   "execution_count": 166,
   "id": "c1c4ccf5",
   "metadata": {},
   "outputs": [
    {
     "name": "stdout",
     "output_type": "stream",
     "text": [
      "1\n"
     ]
    }
   ],
   "source": [
    "# 22. Find the minimum value in a tuple.\n",
    "min_value = min(my_tuple)\n",
    "print(min_value)"
   ]
  },
  {
   "cell_type": "code",
   "execution_count": 167,
   "id": "6be2810e",
   "metadata": {},
   "outputs": [
    {
     "name": "stdout",
     "output_type": "stream",
     "text": [
      "('h', 'e', 'l', 'l', 'o')\n"
     ]
    }
   ],
   "source": [
    "# 23. Convert a string to a tuple of characters.\n",
    "string = \"hello\"\n",
    "char_tuple = tuple(string)\n",
    "print(char_tuple)"
   ]
  },
  {
   "cell_type": "code",
   "execution_count": 168,
   "id": "5feb1b28",
   "metadata": {},
   "outputs": [
    {
     "name": "stdout",
     "output_type": "stream",
     "text": [
      "hello\n"
     ]
    }
   ],
   "source": [
    "# 24. Convert a tuple of characters to a string.\n",
    "char_tuple = ('h', 'e', 'l', 'l', 'o')\n",
    "string = ''.join(char_tuple)\n",
    "print(string)"
   ]
  },
  {
   "cell_type": "code",
   "execution_count": 169,
   "id": "022c2333",
   "metadata": {},
   "outputs": [
    {
     "name": "stdout",
     "output_type": "stream",
     "text": [
      "(1, 'hello', 3.14, True)\n"
     ]
    }
   ],
   "source": [
    "# 25. Create a tuple from multiple data types.\n",
    "mixed_tuple = (1, \"hello\", 3.14, True)\n",
    "print(mixed_tuple)"
   ]
  },
  {
   "cell_type": "code",
   "execution_count": 170,
   "id": "7c4aebd8",
   "metadata": {},
   "outputs": [
    {
     "name": "stdout",
     "output_type": "stream",
     "text": [
      "True\n"
     ]
    }
   ],
   "source": [
    "# 26. Check if two tuples are identical.\n",
    "tuple1 = (1, 2, 3)\n",
    "tuple2 = (1, 2, 3)\n",
    "are_identical = tuple1 == tuple2\n",
    "print(are_identical)"
   ]
  },
  {
   "cell_type": "code",
   "execution_count": 171,
   "id": "30e1068d",
   "metadata": {},
   "outputs": [
    {
     "name": "stdout",
     "output_type": "stream",
     "text": [
      "(1, 2, 3, 4, 5)\n"
     ]
    }
   ],
   "source": [
    "# 27. Sort the elements of a tuple.\n",
    "sorted_tuple = tuple(sorted(my_tuple))\n",
    "print(sorted_tuple)"
   ]
  },
  {
   "cell_type": "code",
   "execution_count": 172,
   "id": "a85a0aa3",
   "metadata": {},
   "outputs": [
    {
     "name": "stdout",
     "output_type": "stream",
     "text": [
      "('1', '2', '3')\n"
     ]
    }
   ],
   "source": [
    "# 28. Convert a tuple of integers to a tuple of strings.\n",
    "int_tuple = (1, 2, 3)\n",
    "str_tuple = tuple(str(num) for num in int_tuple)\n",
    "print(str_tuple)"
   ]
  },
  {
   "cell_type": "code",
   "execution_count": 173,
   "id": "7df9cb8e",
   "metadata": {},
   "outputs": [
    {
     "name": "stdout",
     "output_type": "stream",
     "text": [
      "(1, 2, 3)\n"
     ]
    }
   ],
   "source": [
    "# 29. Convert a tuple of strings to a tuple of integers.\n",
    "str_tuple = ('1', '2', '3')\n",
    "int_tuple = tuple(int(num) for num in str_tuple)\n",
    "print(int_tuple)"
   ]
  },
  {
   "cell_type": "code",
   "execution_count": 174,
   "id": "8e74f0b3",
   "metadata": {},
   "outputs": [
    {
     "name": "stdout",
     "output_type": "stream",
     "text": [
      "(1, 2, 3, 4, 5, 6)\n"
     ]
    }
   ],
   "source": [
    "# 30. Merge two tuples.\n",
    "tuple1 = (1, 2, 3)\n",
    "tuple2 = (4, 5, 6)\n",
    "merged_tuple = tuple1 + tuple2\n",
    "print(merged_tuple)"
   ]
  },
  {
   "cell_type": "code",
   "execution_count": 175,
   "id": "9ae19006",
   "metadata": {},
   "outputs": [
    {
     "name": "stdout",
     "output_type": "stream",
     "text": [
      "(1, 2, 3, 4, 5, 6)\n"
     ]
    }
   ],
   "source": [
    "# 31. Flatten a nested tuple.\n",
    "nested_tuple = ((1, 2), (3, 4), (5, 6))\n",
    "flattened_tuple = tuple(item for sublist in nested_tuple for item in sublist)\n",
    "print(flattened_tuple)"
   ]
  },
  {
   "cell_type": "code",
   "execution_count": 176,
   "id": "201ef81d",
   "metadata": {},
   "outputs": [
    {
     "name": "stdout",
     "output_type": "stream",
     "text": [
      "(2, 3, 5, 7, 11)\n"
     ]
    }
   ],
   "source": [
    "# 32. Create a tuple of the first 5 prime numbers.\n",
    "prime_numbers = (2, 3, 5, 7, 11)\n",
    "print(prime_numbers)"
   ]
  },
  {
   "cell_type": "code",
   "execution_count": 177,
   "id": "940b7bf9",
   "metadata": {},
   "outputs": [
    {
     "name": "stdout",
     "output_type": "stream",
     "text": [
      "True\n"
     ]
    }
   ],
   "source": [
    "# 33. Check if a tuple is a palindrome.\n",
    "tuple1 = (1, 2, 3, 2, 1)\n",
    "is_palindrome = tuple1 == tuple1[::-1]\n",
    "print(is_palindrome)"
   ]
  },
  {
   "cell_type": "code",
   "execution_count": 178,
   "id": "7c09002d",
   "metadata": {},
   "outputs": [
    {
     "name": "stdout",
     "output_type": "stream",
     "text": [
      "(1, 4, 9, 16, 25)\n"
     ]
    }
   ],
   "source": [
    "# 34. Create a tuple of squares of numbers from 1 to 5.\n",
    "squared_tuple = tuple(num**2 for num in range(1, 6))\n",
    "print(squared_tuple)"
   ]
  },
  {
   "cell_type": "code",
   "execution_count": 179,
   "id": "a95025bf",
   "metadata": {},
   "outputs": [
    {
     "name": "stdout",
     "output_type": "stream",
     "text": [
      "(1, 3, 5)\n"
     ]
    }
   ],
   "source": [
    "# 35. Filter out all even numbers from a tuple.\n",
    "filtered_tuple = tuple(filter(lambda x: x % 2 != 0, my_tuple))\n",
    "print(filtered_tuple)"
   ]
  },
  {
   "cell_type": "code",
   "execution_count": 180,
   "id": "b23a7bae",
   "metadata": {},
   "outputs": [
    {
     "name": "stdout",
     "output_type": "stream",
     "text": [
      "(2, 4, 6, 8, 10)\n"
     ]
    }
   ],
   "source": [
    "# 36. Multiply all elements in a tuple by 2.\n",
    "multiplied_tuple = tuple(x * 2 for x in my_tuple)\n",
    "print(multiplied_tuple)"
   ]
  },
  {
   "cell_type": "code",
   "execution_count": 181,
   "id": "672d5978",
   "metadata": {},
   "outputs": [
    {
     "name": "stdout",
     "output_type": "stream",
     "text": [
      "(36, 62, 11, 46, 77)\n"
     ]
    }
   ],
   "source": [
    "# 37. Create a tuple of random numbers.\n",
    "import random\n",
    "random_tuple = tuple(random.randint(1, 100) for _ in range(5))\n",
    "print(random_tuple)"
   ]
  },
  {
   "cell_type": "code",
   "execution_count": 182,
   "id": "45fa824c",
   "metadata": {},
   "outputs": [
    {
     "name": "stdout",
     "output_type": "stream",
     "text": [
      "True\n"
     ]
    }
   ],
   "source": [
    "# 38. Check if a tuple is sorted.\n",
    "is_sorted = sorted_tuple == tuple(sorted_tuple)\n",
    "print(is_sorted)"
   ]
  },
  {
   "cell_type": "code",
   "execution_count": 183,
   "id": "b4f76ad9",
   "metadata": {},
   "outputs": [],
   "source": [
    "# 39. Rotate a tuple to the left by `n` positions.\n",
    "def rotate_left_tuple(tup, n):\n",
    "    n = n % len(tup)\n",
    "    return tup[n:] + tup[:n]"
   ]
  },
  {
   "cell_type": "code",
   "execution_count": 184,
   "id": "cb6acf6f",
   "metadata": {},
   "outputs": [
    {
     "name": "stdout",
     "output_type": "stream",
     "text": [
      "(3, 4, 5, 1, 2)\n"
     ]
    }
   ],
   "source": [
    "rotated_tuple = rotate_left_tuple(my_tuple, 2)\n",
    "print(rotated_tuple)"
   ]
  },
  {
   "cell_type": "code",
   "execution_count": 185,
   "id": "5c31b37e",
   "metadata": {},
   "outputs": [],
   "source": [
    "# 40. Rotate a tuple to the right by `n` positions.\n",
    "def rotate_right_tuple(tup, n):\n",
    "    n = n % len(tup)\n",
    "    return tup[-n:] + tup[:-n]"
   ]
  },
  {
   "cell_type": "code",
   "execution_count": 186,
   "id": "77a3fc86",
   "metadata": {},
   "outputs": [
    {
     "name": "stdout",
     "output_type": "stream",
     "text": [
      "(4, 5, 1, 2, 3)\n"
     ]
    }
   ],
   "source": [
    "rotated_tuple = rotate_right_tuple(my_tuple, 2)\n",
    "print(rotated_tuple)"
   ]
  },
  {
   "cell_type": "code",
   "execution_count": 187,
   "id": "7afe2dd8",
   "metadata": {},
   "outputs": [],
   "source": [
    "# 41. Create a tuple of the first 5 Fibonacci numbers.\n",
    "def generate_fibonacci(n):\n",
    "    fibonacci_list = [0, 1]\n",
    "    while len(fibonacci_list) < n:\n",
    "        fibonacci_list.append(fibonacci_list[-1] + fibonacci_list[-2])\n",
    "    return tuple(fibonacci_list)"
   ]
  },
  {
   "cell_type": "code",
   "execution_count": 188,
   "id": "50810640",
   "metadata": {},
   "outputs": [
    {
     "name": "stdout",
     "output_type": "stream",
     "text": [
      "(0, 1, 1, 2, 3)\n"
     ]
    }
   ],
   "source": [
    "fibonacci_numbers = generate_fibonacci(5)\n",
    "print(fibonacci_numbers)"
   ]
  },
  {
   "cell_type": "code",
   "execution_count": 189,
   "id": "a94985cb",
   "metadata": {},
   "outputs": [
    {
     "name": "stdout",
     "output_type": "stream",
     "text": [
      "('1', '2', '3')\n"
     ]
    }
   ],
   "source": [
    "# 42. Create a tuple from user input.\n",
    "user_input = input(\"Enter elements separated by commas: \")\n",
    "user_tuple = tuple(user_input.split(','))\n",
    "print(user_tuple)"
   ]
  },
  {
   "cell_type": "code",
   "execution_count": 190,
   "id": "36f8f32a",
   "metadata": {},
   "outputs": [],
   "source": [
    "# 43. Swap two elements in a tuple.\n",
    "def swap_elements_tuple(tup, index1, index2):\n",
    "    lst = list(tup)\n",
    "    lst[index1], lst[index2] = lst[index2], lst[index1]\n",
    "    return tuple(lst)"
   ]
  },
  {
   "cell_type": "code",
   "execution_count": 191,
   "id": "f79df8a0",
   "metadata": {},
   "outputs": [
    {
     "name": "stdout",
     "output_type": "stream",
     "text": [
      "(1, 4, 3, 2, 5)\n"
     ]
    }
   ],
   "source": [
    "swapped_tuple = swap_elements_tuple(my_tuple, 1, 3)\n",
    "print(swapped_tuple)"
   ]
  },
  {
   "cell_type": "code",
   "execution_count": 192,
   "id": "6f479147",
   "metadata": {},
   "outputs": [
    {
     "name": "stdout",
     "output_type": "stream",
     "text": [
      "(5, 4, 3, 2, 1)\n"
     ]
    }
   ],
   "source": [
    "# 44. Reverse the elements of a tuple.\n",
    "reversed_tuple = my_tuple[::-1]\n",
    "print(reversed_tuple)"
   ]
  },
  {
   "cell_type": "code",
   "execution_count": 193,
   "id": "9c64f2cc",
   "metadata": {},
   "outputs": [
    {
     "name": "stdout",
     "output_type": "stream",
     "text": [
      "(1, 2, 4, 8, 16)\n"
     ]
    }
   ],
   "source": [
    "# 45. Create a tuple of the first `n` powers of 2.\n",
    "n = 5\n",
    "powers_of_2 = tuple(2**i for i in range(n))\n",
    "print(powers_of_2)"
   ]
  },
  {
   "cell_type": "code",
   "execution_count": 194,
   "id": "4df5f4ae",
   "metadata": {},
   "outputs": [
    {
     "name": "stdout",
     "output_type": "stream",
     "text": [
      "strawberry\n"
     ]
    }
   ],
   "source": [
    "# 46. Find the longest string in a tuple of strings.\n",
    "string_tuple = (\"apple\", \"banana\", \"orange\", \"strawberry\")\n",
    "longest_string = max(string_tuple, key=len)\n",
    "print(longest_string)"
   ]
  },
  {
   "cell_type": "code",
   "execution_count": 195,
   "id": "2a36834e",
   "metadata": {},
   "outputs": [
    {
     "name": "stdout",
     "output_type": "stream",
     "text": [
      "apple\n"
     ]
    }
   ],
   "source": [
    "# 47. Find the shortest string in a tuple of strings.\n",
    "shortest_string = min(string_tuple, key=len)\n",
    "print(shortest_string)"
   ]
  },
  {
   "cell_type": "code",
   "execution_count": 196,
   "id": "163cdfe4",
   "metadata": {},
   "outputs": [],
   "source": [
    "# 48. Create a tuple of the first `n` triangular numbers.\n",
    "def triangular_number(n):\n",
    "    return tuple(i*(i+1)//2 for i in range(1, n+1))"
   ]
  },
  {
   "cell_type": "code",
   "execution_count": 197,
   "id": "e475bc38",
   "metadata": {},
   "outputs": [
    {
     "name": "stdout",
     "output_type": "stream",
     "text": [
      "(1, 3, 6, 10, 15)\n"
     ]
    }
   ],
   "source": [
    "triangular_numbers = triangular_number(5)\n",
    "print(triangular_numbers)"
   ]
  },
  {
   "cell_type": "code",
   "execution_count": 198,
   "id": "2fb39de1",
   "metadata": {},
   "outputs": [],
   "source": [
    "# 49. Check if a tuple contains another tuple as a subsequence.\n",
    "def is_subsequence_tuple(sub, tup):\n",
    "    sub_iter = iter(sub)\n",
    "    return all(item in tup for item in sub_iter)"
   ]
  },
  {
   "cell_type": "code",
   "execution_count": 199,
   "id": "434916db",
   "metadata": {},
   "outputs": [
    {
     "name": "stdout",
     "output_type": "stream",
     "text": [
      "True\n"
     ]
    }
   ],
   "source": [
    "sub_tuple = (2, 3, 4)\n",
    "result = is_subsequence_tuple(sub_tuple, (1, 2, 3, 4, 5))\n",
    "print(result)"
   ]
  },
  {
   "cell_type": "code",
   "execution_count": 200,
   "id": "bc351860",
   "metadata": {},
   "outputs": [
    {
     "name": "stdout",
     "output_type": "stream",
     "text": [
      "(1, 0, 1, 0, 1, 0, 1, 0, 1, 0)\n"
     ]
    }
   ],
   "source": [
    "# 50. Create a tuple of alternating 1s and 0s of length `n`.\n",
    "n = 10\n",
    "alternating_tuple = tuple(1 if i % 2 == 0 else 0 for i in range(n))\n",
    "print(alternating_tuple)"
   ]
  },
  {
   "cell_type": "code",
   "execution_count": 201,
   "id": "6ac1a0dd",
   "metadata": {},
   "outputs": [
    {
     "name": "stdout",
     "output_type": "stream",
     "text": [
      "{1, 2, 3, 4, 5}\n"
     ]
    }
   ],
   "source": [
    "#Set Based Practice Problem :\n",
    "# 1. Create a set with integers from 1 to 5.\n",
    "my_set = {1, 2, 3, 4, 5}\n",
    "print(my_set)"
   ]
  },
  {
   "cell_type": "code",
   "execution_count": 202,
   "id": "c6355969",
   "metadata": {},
   "outputs": [
    {
     "name": "stdout",
     "output_type": "stream",
     "text": [
      "{1, 2, 3, 4, 5, 6}\n"
     ]
    }
   ],
   "source": [
    "# 2. Add an element to a set.\n",
    "my_set.add(6)\n",
    "print(my_set)"
   ]
  },
  {
   "cell_type": "code",
   "execution_count": 203,
   "id": "eed8c250",
   "metadata": {},
   "outputs": [
    {
     "name": "stdout",
     "output_type": "stream",
     "text": [
      "{1, 2, 4, 5, 6}\n"
     ]
    }
   ],
   "source": [
    "# 3. Remove an element from a set.\n",
    "my_set.remove(3)\n",
    "print(my_set)"
   ]
  },
  {
   "cell_type": "code",
   "execution_count": 204,
   "id": "e9dab472",
   "metadata": {},
   "outputs": [
    {
     "name": "stdout",
     "output_type": "stream",
     "text": [
      "False\n"
     ]
    }
   ],
   "source": [
    "# 4. Check if an element exists in a set.\n",
    "element_exists = 3 in my_set\n",
    "print(element_exists)"
   ]
  },
  {
   "cell_type": "code",
   "execution_count": 205,
   "id": "0a05e27a",
   "metadata": {},
   "outputs": [
    {
     "name": "stdout",
     "output_type": "stream",
     "text": [
      "5\n"
     ]
    }
   ],
   "source": [
    "# 5. Find the length of a set without using the `len()` function.\n",
    "set_length = sum(1 for _ in my_set)\n",
    "print(set_length)"
   ]
  },
  {
   "cell_type": "code",
   "execution_count": 206,
   "id": "068b753d",
   "metadata": {},
   "outputs": [
    {
     "name": "stdout",
     "output_type": "stream",
     "text": [
      "set()\n"
     ]
    }
   ],
   "source": [
    "# 6. Clear all elements from a set.\n",
    "my_set.clear()\n",
    "print(my_set)"
   ]
  },
  {
   "cell_type": "code",
   "execution_count": 207,
   "id": "59265164",
   "metadata": {},
   "outputs": [
    {
     "name": "stdout",
     "output_type": "stream",
     "text": [
      "{2, 4, 6, 8, 10}\n"
     ]
    }
   ],
   "source": [
    "# 7. Create a set of even numbers from 1 to 10.\n",
    "even_set = {num for num in range(1, 11) if num % 2 == 0}\n",
    "print(even_set)"
   ]
  },
  {
   "cell_type": "code",
   "execution_count": 208,
   "id": "d8f00c86",
   "metadata": {},
   "outputs": [
    {
     "name": "stdout",
     "output_type": "stream",
     "text": [
      "{1, 3, 5, 7, 9}\n"
     ]
    }
   ],
   "source": [
    "# 8. Create a set of odd numbers from 1 to 10.\n",
    "odd_set = {num for num in range(1, 11) if num % 2 != 0}\n",
    "print(odd_set)"
   ]
  },
  {
   "cell_type": "code",
   "execution_count": 209,
   "id": "57a7d3d6",
   "metadata": {},
   "outputs": [
    {
     "name": "stdout",
     "output_type": "stream",
     "text": [
      "{1, 2, 3, 4, 5}\n"
     ]
    }
   ],
   "source": [
    "# 9. Find the union of two sets.\n",
    "set1 = {1, 2, 3}\n",
    "set2 = {3, 4, 5}\n",
    "union_set = set1.union(set2)\n",
    "print(union_set)"
   ]
  },
  {
   "cell_type": "code",
   "execution_count": 210,
   "id": "ea4c8e5b",
   "metadata": {},
   "outputs": [
    {
     "name": "stdout",
     "output_type": "stream",
     "text": [
      "{3}\n"
     ]
    }
   ],
   "source": [
    "# 10. Find the intersection of two sets.\n",
    "intersection_set = set1.intersection(set2)\n",
    "print(intersection_set)"
   ]
  },
  {
   "cell_type": "code",
   "execution_count": 211,
   "id": "0e4248b4",
   "metadata": {},
   "outputs": [
    {
     "name": "stdout",
     "output_type": "stream",
     "text": [
      "{1, 2}\n"
     ]
    }
   ],
   "source": [
    "# 11. Find the difference between two sets.\n",
    "difference_set = set1.difference(set2)\n",
    "print(difference_set)"
   ]
  },
  {
   "cell_type": "code",
   "execution_count": 212,
   "id": "ad970e2f",
   "metadata": {},
   "outputs": [
    {
     "name": "stdout",
     "output_type": "stream",
     "text": [
      "False\n"
     ]
    }
   ],
   "source": [
    "# 12. Check if a set is a subset of another set.\n",
    "subset_check = set1.issubset(set2)\n",
    "print(subset_check)"
   ]
  },
  {
   "cell_type": "code",
   "execution_count": 213,
   "id": "9c54ef21",
   "metadata": {},
   "outputs": [
    {
     "name": "stdout",
     "output_type": "stream",
     "text": [
      "False\n"
     ]
    }
   ],
   "source": [
    "# 13. Check if a set is a superset of another set.\n",
    "superset_check = set1.issuperset(set2)\n",
    "print(superset_check)"
   ]
  },
  {
   "cell_type": "code",
   "execution_count": 214,
   "id": "c35154b5",
   "metadata": {},
   "outputs": [
    {
     "name": "stdout",
     "output_type": "stream",
     "text": [
      "{1, 2, 3, 4, 5}\n"
     ]
    }
   ],
   "source": [
    "# 14. Create a set from a list.\n",
    "my_list = [1, 2, 3, 4, 5]\n",
    "set_from_list = set(my_list)\n",
    "print(set_from_list)"
   ]
  },
  {
   "cell_type": "code",
   "execution_count": 215,
   "id": "add8ae81",
   "metadata": {},
   "outputs": [
    {
     "name": "stdout",
     "output_type": "stream",
     "text": [
      "[1, 2, 3, 4, 5]\n"
     ]
    }
   ],
   "source": [
    "# 15. Convert a set to a list.\n",
    "my_set = {1, 2, 3, 4, 5}\n",
    "list_from_set = list(my_set)\n",
    "print(list_from_set)"
   ]
  },
  {
   "cell_type": "code",
   "execution_count": 216,
   "id": "0408c2d5",
   "metadata": {},
   "outputs": [
    {
     "name": "stdout",
     "output_type": "stream",
     "text": [
      "{2, 3, 4, 5}\n"
     ]
    }
   ],
   "source": [
    "# 16. Remove a random element from a set.\n",
    "my_set.pop()\n",
    "print(my_set)"
   ]
  },
  {
   "cell_type": "code",
   "execution_count": 217,
   "id": "c17c0c77",
   "metadata": {},
   "outputs": [
    {
     "name": "stdout",
     "output_type": "stream",
     "text": [
      "{3, 4, 5}\n"
     ]
    }
   ],
   "source": [
    "# 17. Pop an element from a set.\n",
    "my_set.pop()\n",
    "print(my_set)"
   ]
  },
  {
   "cell_type": "code",
   "execution_count": 218,
   "id": "b3adf19d",
   "metadata": {},
   "outputs": [
    {
     "name": "stdout",
     "output_type": "stream",
     "text": [
      "False\n"
     ]
    }
   ],
   "source": [
    "# 18. Check if two sets have no elements in common.\n",
    "no_common_elements = set1.isdisjoint(set2)\n",
    "print(no_common_elements)"
   ]
  },
  {
   "cell_type": "code",
   "execution_count": 219,
   "id": "196f7d1a",
   "metadata": {},
   "outputs": [
    {
     "name": "stdout",
     "output_type": "stream",
     "text": [
      "{1, 2, 4, 5}\n"
     ]
    }
   ],
   "source": [
    "# 19. Find the symmetric difference between two sets.\n",
    "symmetric_difference_set = set1.symmetric_difference(set2)\n",
    "print(symmetric_difference_set)"
   ]
  },
  {
   "cell_type": "code",
   "execution_count": 220,
   "id": "3936a212",
   "metadata": {},
   "outputs": [
    {
     "name": "stdout",
     "output_type": "stream",
     "text": [
      "{1, 2, 3, 4, 5}\n"
     ]
    }
   ],
   "source": [
    "# 20. Update a set with elements from another set.\n",
    "set1.update(set2)\n",
    "print(set1)"
   ]
  },
  {
   "cell_type": "code",
   "execution_count": 221,
   "id": "ff73164d",
   "metadata": {},
   "outputs": [
    {
     "name": "stdout",
     "output_type": "stream",
     "text": [
      "{2, 3, 5, 7, 11}\n"
     ]
    }
   ],
   "source": [
    "# 21. Create a set of the first 5 prime numbers.\n",
    "prime_set = {2, 3, 5, 7, 11}\n",
    "print(prime_set)"
   ]
  },
  {
   "cell_type": "code",
   "execution_count": 222,
   "id": "ef48bb1f",
   "metadata": {},
   "outputs": [
    {
     "name": "stdout",
     "output_type": "stream",
     "text": [
      "True\n"
     ]
    }
   ],
   "source": [
    "# 22. Check if two sets are identical.\n",
    "set3 = {1, 2, 3}\n",
    "set4 = {3, 2, 1}\n",
    "identical_check = set3 == set4\n",
    "print(identical_check)"
   ]
  },
  {
   "cell_type": "code",
   "execution_count": 223,
   "id": "67db79ea",
   "metadata": {},
   "outputs": [
    {
     "name": "stdout",
     "output_type": "stream",
     "text": [
      "frozenset({1, 2, 3})\n"
     ]
    }
   ],
   "source": [
    "# 23. Create a frozen set.\n",
    "frozen_set = frozenset({1, 2, 3})\n",
    "print(frozen_set)"
   ]
  },
  {
   "cell_type": "code",
   "execution_count": 224,
   "id": "9af5a29f",
   "metadata": {},
   "outputs": [
    {
     "name": "stdout",
     "output_type": "stream",
     "text": [
      "False\n"
     ]
    }
   ],
   "source": [
    "# 24. Check if a set is disjoint with another set.\n",
    "disjoint_check = set1.isdisjoint(set2)\n",
    "print(disjoint_check)"
   ]
  },
  {
   "cell_type": "code",
   "execution_count": 225,
   "id": "9f111fb5",
   "metadata": {},
   "outputs": [
    {
     "name": "stdout",
     "output_type": "stream",
     "text": [
      "{1, 4, 9, 16, 25}\n"
     ]
    }
   ],
   "source": [
    "# 25. Create a set of squares of numbers from 1 to 5.\n",
    "squared_set = {num**2 for num in range(1, 6)}\n",
    "print(squared_set)"
   ]
  },
  {
   "cell_type": "code",
   "execution_count": 226,
   "id": "142620b9",
   "metadata": {},
   "outputs": [
    {
     "name": "stdout",
     "output_type": "stream",
     "text": [
      "{3, 5}\n"
     ]
    }
   ],
   "source": [
    "# 26. Filter out all even numbers from a set.\n",
    "filtered_set = {x for x in my_set if x % 2 != 0}\n",
    "print(filtered_set)"
   ]
  },
  {
   "cell_type": "code",
   "execution_count": 227,
   "id": "3c0f9f0b",
   "metadata": {},
   "outputs": [
    {
     "name": "stdout",
     "output_type": "stream",
     "text": [
      "{8, 10, 6}\n"
     ]
    }
   ],
   "source": [
    "# 27. Multiply all elements in a set by 2.\n",
    "multiplied_set = {x * 2 for x in my_set}\n",
    "print(multiplied_set)"
   ]
  },
  {
   "cell_type": "code",
   "execution_count": 228,
   "id": "6fb7933f",
   "metadata": {},
   "outputs": [
    {
     "name": "stdout",
     "output_type": "stream",
     "text": [
      "{56, 80, 59, 78}\n"
     ]
    }
   ],
   "source": [
    "# 28. Create a set of random numbers.\n",
    "import random\n",
    "random_set = {random.randint(1, 100) for _ in range(5)}\n",
    "print(random_set)"
   ]
  },
  {
   "cell_type": "code",
   "execution_count": 229,
   "id": "453bbddb",
   "metadata": {},
   "outputs": [
    {
     "name": "stdout",
     "output_type": "stream",
     "text": [
      "False\n"
     ]
    }
   ],
   "source": [
    "# 29. Check if a set is empty.\n",
    "is_empty = not bool(my_set)\n",
    "print(is_empty)"
   ]
  },
  {
   "cell_type": "code",
   "execution_count": 230,
   "id": "610867fa",
   "metadata": {},
   "outputs": [
    {
     "name": "stdout",
     "output_type": "stream",
     "text": [
      "{frozenset({3, 4}), frozenset({1, 2})}\n"
     ]
    }
   ],
   "source": [
    "# 30. Create a nested set (hint: use frozenset).\n",
    "nested_set = {frozenset({1, 2}), frozenset({3, 4})}\n",
    "print(nested_set)"
   ]
  },
  {
   "cell_type": "code",
   "execution_count": 231,
   "id": "4d3ce119",
   "metadata": {},
   "outputs": [
    {
     "name": "stdout",
     "output_type": "stream",
     "text": [
      "{3, 4, 5}\n"
     ]
    }
   ],
   "source": [
    "# 31. Remove an element from a set using the discard method.\n",
    "my_set.discard(2)\n",
    "print(my_set)"
   ]
  },
  {
   "cell_type": "code",
   "execution_count": 232,
   "id": "ec79e741",
   "metadata": {},
   "outputs": [
    {
     "name": "stdout",
     "output_type": "stream",
     "text": [
      "0\n"
     ]
    }
   ],
   "source": [
    "# 32. Compare two sets.\n",
    "set5 = {1, 2, 3}\n",
    "set6 = {3, 4, 5}\n",
    "comparison_result = (set5 > set6) - (set5 < set6)\n",
    "print(comparison_result)"
   ]
  },
  {
   "cell_type": "code",
   "execution_count": 233,
   "id": "778117f7",
   "metadata": {},
   "outputs": [
    {
     "name": "stdout",
     "output_type": "stream",
     "text": [
      "{'h', 'e', 'o', 'l'}\n"
     ]
    }
   ],
   "source": [
    "# 33. Create a set from a string.\n",
    "string = \"hello\"\n",
    "string_set = set(string)\n",
    "print(string_set)"
   ]
  },
  {
   "cell_type": "code",
   "execution_count": 234,
   "id": "5a95ba01",
   "metadata": {},
   "outputs": [
    {
     "name": "stdout",
     "output_type": "stream",
     "text": [
      "{1, 2, 3}\n"
     ]
    }
   ],
   "source": [
    "# 34. Convert a set of strings to a set of integers.\n",
    "string_set = {\"1\", \"2\", \"3\"}\n",
    "int_set = {int(x) for x in string_set}\n",
    "print(int_set)"
   ]
  },
  {
   "cell_type": "code",
   "execution_count": 235,
   "id": "7732852c",
   "metadata": {},
   "outputs": [
    {
     "name": "stdout",
     "output_type": "stream",
     "text": [
      "{'3', '1', '2'}\n"
     ]
    }
   ],
   "source": [
    "# 35. Convert a set of integers to a set of strings.\n",
    "int_set = {1, 2, 3}\n",
    "string_set = {str(x) for x in int_set}\n",
    "print(string_set)"
   ]
  },
  {
   "cell_type": "code",
   "execution_count": 236,
   "id": "a0b0c63b",
   "metadata": {},
   "outputs": [
    {
     "name": "stdout",
     "output_type": "stream",
     "text": [
      "{1, 2, 3, 4, 5}\n"
     ]
    }
   ],
   "source": [
    "# 36. Create a set from a tuple.\n",
    "my_tuple = (1, 2, 3, 4, 5)\n",
    "tuple_set = set(my_tuple)\n",
    "print(tuple_set)"
   ]
  },
  {
   "cell_type": "code",
   "execution_count": 237,
   "id": "a671b5c5",
   "metadata": {},
   "outputs": [
    {
     "name": "stdout",
     "output_type": "stream",
     "text": [
      "(1, 2, 3, 4, 5)\n"
     ]
    }
   ],
   "source": [
    "# 37. Convert a set to a tuple.\n",
    "my_set = {1, 2, 3, 4, 5}\n",
    "set_tuple = tuple(my_set)\n",
    "print(set_tuple)"
   ]
  },
  {
   "cell_type": "code",
   "execution_count": 238,
   "id": "9b7b3f68",
   "metadata": {},
   "outputs": [
    {
     "name": "stdout",
     "output_type": "stream",
     "text": [
      "5\n"
     ]
    }
   ],
   "source": [
    "# 38. Find the maximum value in a set.\n",
    "max_value = max(my_set)\n",
    "print(max_value)"
   ]
  },
  {
   "cell_type": "code",
   "execution_count": 239,
   "id": "4e6df91e",
   "metadata": {},
   "outputs": [
    {
     "name": "stdout",
     "output_type": "stream",
     "text": [
      "1\n"
     ]
    }
   ],
   "source": [
    "# 39. Find the minimum value in a set.\n",
    "min_value = min(my_set)\n",
    "print(min_value)"
   ]
  },
  {
   "cell_type": "code",
   "execution_count": 240,
   "id": "47dba0ec",
   "metadata": {},
   "outputs": [
    {
     "name": "stdout",
     "output_type": "stream",
     "text": [
      "{'3', '1', '2'}\n"
     ]
    }
   ],
   "source": [
    "# 40. Create a set from user input.\n",
    "user_input = input(\"Enter elements separated by commas: \")\n",
    "user_set = set(user_input.split(','))\n",
    "print(user_set)"
   ]
  },
  {
   "cell_type": "code",
   "execution_count": 241,
   "id": "f0073423",
   "metadata": {},
   "outputs": [
    {
     "name": "stdout",
     "output_type": "stream",
     "text": [
      "False\n"
     ]
    }
   ],
   "source": [
    "# 41. Check if the intersection of two sets is empty.\n",
    "intersection_empty = set1.isdisjoint(set2)\n",
    "print(intersection_empty)"
   ]
  },
  {
   "cell_type": "code",
   "execution_count": 242,
   "id": "e5c61f9c",
   "metadata": {},
   "outputs": [],
   "source": [
    "# 42. Create a set of the first 5 Fibonacci numbers.\n",
    "def fib(n):\n",
    "    if n==0:\n",
    "      return 0\n",
    "    if n==1:\n",
    "      return 1\n",
    "    return fib(n-1)+fib(n-2)"
   ]
  },
  {
   "cell_type": "code",
   "execution_count": 243,
   "id": "edb37c5e",
   "metadata": {},
   "outputs": [
    {
     "data": {
      "text/plain": [
       "{0, 1, 2, 3, 5}"
      ]
     },
     "execution_count": 243,
     "metadata": {},
     "output_type": "execute_result"
    }
   ],
   "source": [
    "n=5\n",
    "fib_set = set([fib(i) for i in range(n+1)])\n",
    "fib_set"
   ]
  },
  {
   "cell_type": "code",
   "execution_count": 244,
   "id": "61cf2c8e",
   "metadata": {},
   "outputs": [
    {
     "name": "stdout",
     "output_type": "stream",
     "text": [
      "{1, 2, 3, 4, 5}\n"
     ]
    }
   ],
   "source": [
    "# 43. Remove duplicates from a list using sets.\n",
    "my_list = [1, 2, 2, 3, 3, 4, 5]\n",
    "unique_elements = set(my_list)\n",
    "print(unique_elements)"
   ]
  },
  {
   "cell_type": "code",
   "execution_count": 245,
   "id": "795c8b49",
   "metadata": {},
   "outputs": [
    {
     "name": "stdout",
     "output_type": "stream",
     "text": [
      "True\n"
     ]
    }
   ],
   "source": [
    "# 44. Check if two sets have the same elements, regardless of their count.\n",
    "set7 = {1, 2, 3}\n",
    "set8 = {1, 1, 2, 3, 3}\n",
    "same_elements = set7 == set8\n",
    "print(same_elements)"
   ]
  },
  {
   "cell_type": "code",
   "execution_count": 246,
   "id": "ce1ba301",
   "metadata": {},
   "outputs": [
    {
     "name": "stdout",
     "output_type": "stream",
     "text": [
      "{1, 2, 4, 8, 16}\n"
     ]
    }
   ],
   "source": [
    "# 45. Create a set of the first `n` powers of 2.\n",
    "n = 5\n",
    "powers_of_2_set = {2**i for i in range(n)}\n",
    "print(powers_of_2_set)"
   ]
  },
  {
   "cell_type": "code",
   "execution_count": 247,
   "id": "9d7882ba",
   "metadata": {},
   "outputs": [
    {
     "name": "stdout",
     "output_type": "stream",
     "text": [
      "{1, 2, 3, 4, 5}\n"
     ]
    }
   ],
   "source": [
    "# 46. Find the common elements between a set and a list.\n",
    "my_list = [1, 2, 3, 4, 5]\n",
    "common_elements = set(my_list).intersection(my_set)\n",
    "print(common_elements)"
   ]
  },
  {
   "cell_type": "code",
   "execution_count": 248,
   "id": "232dae63",
   "metadata": {},
   "outputs": [],
   "source": [
    "# 47. Create a set of the first `n` triangular numbers.\n",
    "def triangular_number(n):\n",
    "    return {i*(i+1)//2 for i in range(1, n+1)}"
   ]
  },
  {
   "cell_type": "code",
   "execution_count": 249,
   "id": "976c6a83",
   "metadata": {},
   "outputs": [
    {
     "name": "stdout",
     "output_type": "stream",
     "text": [
      "{1, 3, 6, 10, 15}\n"
     ]
    }
   ],
   "source": [
    "triangular_numbers = triangular_number(5)\n",
    "print(triangular_numbers)"
   ]
  },
  {
   "cell_type": "code",
   "execution_count": 250,
   "id": "016f3ba6",
   "metadata": {},
   "outputs": [
    {
     "name": "stdout",
     "output_type": "stream",
     "text": [
      "False\n"
     ]
    }
   ],
   "source": [
    "# 48. Check if a set contains another set as a subset.\n",
    "subset_check = set1.issubset(set2)\n",
    "print(subset_check)"
   ]
  },
  {
   "cell_type": "code",
   "execution_count": 251,
   "id": "0efb874c",
   "metadata": {},
   "outputs": [
    {
     "name": "stdout",
     "output_type": "stream",
     "text": [
      "{0, 1}\n"
     ]
    }
   ],
   "source": [
    "# 49. Create a set of alternating 1s and 0s of length `n`.\n",
    "n = 10\n",
    "alternating_set = {1 if i % 2 == 0 else 0 for i in range(n)}\n",
    "print(alternating_set)"
   ]
  },
  {
   "cell_type": "code",
   "execution_count": 252,
   "id": "9180b674",
   "metadata": {},
   "outputs": [
    {
     "name": "stdout",
     "output_type": "stream",
     "text": [
      "{1, 2, 3, 4, 5}\n"
     ]
    }
   ],
   "source": [
    "# 50. Merge multiple sets into one.\n",
    "set1 = {1, 2, 3}\n",
    "set2 = {3, 4, 5}\n",
    "merged_set = set1.union(set2)\n",
    "print(merged_set)"
   ]
  }
 ],
 "metadata": {
  "kernelspec": {
   "display_name": "Python 3",
   "language": "python",
   "name": "python3"
  },
  "language_info": {
   "codemirror_mode": {
    "name": "ipython",
    "version": 3
   },
   "file_extension": ".py",
   "mimetype": "text/x-python",
   "name": "python",
   "nbconvert_exporter": "python",
   "pygments_lexer": "ipython3",
   "version": "3.11.4"
  }
 },
 "nbformat": 4,
 "nbformat_minor": 5
}
