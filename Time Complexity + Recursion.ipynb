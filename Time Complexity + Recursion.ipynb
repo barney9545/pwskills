{
 "cells": [
  {
   "cell_type": "markdown",
   "id": "f1f979b0-d243-4385-a8c4-0889a7a56757",
   "metadata": {},
   "source": [
    "<h4>Problem 1 : \n",
    "def quicksort(arr):\n",
    "    if len(arr) <= 1:\n",
    "        return arr\n",
    "    pivot = arr[len(arr) // 2]\n",
    "    left = [x for x in arr if x < pivot]\n",
    "    middle = [x for x in arr if x == pivot]\n",
    "    right = [x for x in arr if x > pivot]\n",
    "    return quicksort(left) + middle + quicksort(right)"
   ]
  },
  {
   "cell_type": "markdown",
   "id": "fd0dddaa-ed94-4673-a13f-010f895fc105",
   "metadata": {},
   "source": [
    "TC= O(nlogn)\n",
    "worst TC wont occur bcz the list is always sorted in middle"
   ]
  },
  {
   "cell_type": "markdown",
   "id": "d6055d4d-f1cb-4032-a23b-0540b96432fd",
   "metadata": {},
   "source": [
    "<h4>Problem 2 : \n",
    "def nested_loop_example(matrix): \n",
    "    rows, cols = len(matrix), len(matrix[0]) \n",
    "    total = 0 \n",
    "    for i in range(rows): \n",
    "        for j in range(cols): \n",
    "            total += matrix[i][j] \n",
    "    return total \n"
   ]
  },
  {
   "cell_type": "markdown",
   "id": "f672af45-6317-4552-a217-03ae137ac255",
   "metadata": {},
   "source": [
    "O(n**2)"
   ]
  },
  {
   "cell_type": "markdown",
   "id": "29b06071-38f2-48be-a603-58d6233898fc",
   "metadata": {},
   "source": [
    "<h4>Problem 3 : \n",
    "def example_function(arr): \n",
    "    result = 0 \n",
    "    for element in arr: \n",
    "        result += element \n",
    "    return result \n"
   ]
  },
  {
   "cell_type": "markdown",
   "id": "a804449c-b352-4f58-82a0-9c81b32ea5b1",
   "metadata": {},
   "source": [
    "O(n)"
   ]
  },
  {
   "cell_type": "markdown",
   "id": "3bcb6f09-c5aa-40f1-84df-88804b959fab",
   "metadata": {},
   "source": [
    "<h4>Problem 4 : \n",
    "def longest_increasing_subsequence(nums): \n",
    "    n = len(nums) \n",
    "    lis = [1] * n \n",
    "    for i in range(1, n): \n",
    "        for j in range(0, i): \n",
    "            if nums[i] > nums[j] and lis[i] < lis[j] + 1: \n",
    "                lis[i] = lis[j] + 1 \n",
    "    return max(lis)\n"
   ]
  },
  {
   "cell_type": "markdown",
   "id": "e7e6ab66-4dac-4994-af5e-2647b921b1b4",
   "metadata": {},
   "source": [
    "O(n**2)"
   ]
  },
  {
   "cell_type": "markdown",
   "id": "6b1ff84d-ad48-400a-881a-c67598993e7c",
   "metadata": {},
   "source": [
    "<h4>Problem 5 : \n",
    "def mysterious_function(arr): \n",
    "    n = len(arr) \n",
    "    result = 0 \n",
    "    for i in range(n): \n",
    "        for j in range(i, n): \n",
    "            result += arr[i] * arr[j] \n",
    "    return result \n"
   ]
  },
  {
   "cell_type": "markdown",
   "id": "99f82ef0-cd15-4c83-b686-e56ee908f55a",
   "metadata": {},
   "source": [
    "O(n**2)"
   ]
  },
  {
   "cell_type": "markdown",
   "id": "80db0b05-4037-4f84-849c-e5564956e4f8",
   "metadata": {},
   "source": [
    "<h4>6. Write a recursive function to calculate the sum of digits of a given positive integer.\n",
    "sum_of_digits(123) -> 6"
   ]
  },
  {
   "cell_type": "code",
   "execution_count": 5,
   "id": "1cf2c605-8853-47f7-a71d-e4bac943416f",
   "metadata": {},
   "outputs": [],
   "source": [
    "def sod(num):\n",
    "    if num//10 == 0:\n",
    "        return num\n",
    "    return num%10 + sod(num//10)\n",
    "    "
   ]
  },
  {
   "cell_type": "code",
   "execution_count": 6,
   "id": "5693705f-bd31-423f-a69a-a11ad7eb3c09",
   "metadata": {},
   "outputs": [
    {
     "data": {
      "text/plain": [
       "5"
      ]
     },
     "execution_count": 6,
     "metadata": {},
     "output_type": "execute_result"
    }
   ],
   "source": [
    "sod(122)"
   ]
  },
  {
   "cell_type": "markdown",
   "id": "2534e6fd-8793-45b6-bfc9-2d2e35b71809",
   "metadata": {},
   "source": [
    "<h4>7. Write a recursive function to generate the first n numbers of the Fibonacci series.\n",
    "<br>fibonacci_series(6) -> [0, 1, 1, 2, 3, 5]"
   ]
  },
  {
   "cell_type": "code",
   "execution_count": 15,
   "id": "0bd68748-e992-48b3-ac6a-fa4476762188",
   "metadata": {},
   "outputs": [],
   "source": [
    "def fib(n):\n",
    "    if n==0:\n",
    "        return 0\n",
    "    elif n==1:\n",
    "        return 1\n",
    "    else:\n",
    "        return fib(n-2)+fib(n-1)\n"
   ]
  },
  {
   "cell_type": "code",
   "execution_count": 16,
   "id": "3b4d0b1b-10f9-49a4-a626-88792e8da962",
   "metadata": {},
   "outputs": [
    {
     "data": {
      "text/plain": [
       "2"
      ]
     },
     "execution_count": 16,
     "metadata": {},
     "output_type": "execute_result"
    }
   ],
   "source": [
    "fib(3)"
   ]
  },
  {
   "cell_type": "code",
   "execution_count": 17,
   "id": "2a2aca89-ae8d-41ef-91d8-2fab466991c7",
   "metadata": {},
   "outputs": [],
   "source": [
    "def fibonacci_series(n):\n",
    "    return [fib(i) for i in range(n+1)]"
   ]
  },
  {
   "cell_type": "markdown",
   "id": "454958b2-881d-41de-aec3-e632f496e547",
   "metadata": {},
   "source": [
    "<h4>8. Given a set of positive integers and a target sum, write a recursive function to determine if there exists a subset\n",
    "of the integers that adds up to the target sum.\n",
    "subset_sum([3, 34, 4, 12, 5, 2], 9) -> True"
   ]
  },
  {
   "cell_type": "code",
   "execution_count": null,
   "id": "7b3579eb-1a82-491e-be58-f8d045da4c1d",
   "metadata": {},
   "outputs": [],
   "source": [
    "def sub_sum(l,s):\n",
    "    if sum(l)==s:\n",
    "        "
   ]
  },
  {
   "cell_type": "code",
   "execution_count": 97,
   "id": "147b66a2-2f78-4894-b278-a9f94f6fdc7d",
   "metadata": {},
   "outputs": [],
   "source": [
    "def sub_sum(l,s,i,curr_l,all_l):\n",
    "   \n",
    "    if sum(curr_l) == s:\n",
    "        if not (curr_l in all_l): \n",
    "            a = curr_l\n",
    "            all_l.append(a.copy())\n",
    "        return\n",
    "    if sum(curr_l) > s:\n",
    "        return\n",
    "    for x in range(i,len(l)):\n",
    "        if sum(curr_l)+l[x]>s or curr_l.count(l[x])>=l.count(l[x]):\n",
    "            continue\n",
    "            \n",
    "        curr_l.append(l[x])\n",
    "        sub_sum(l,s,x,curr_l,all_l)\n",
    "        \n",
    "        curr_l.pop()\n",
    "        \n",
    "        \n",
    "def subset (l,s):\n",
    "    all_l= []\n",
    "    sub_sum(l,s,0,[],all_l)\n",
    "    return all_l     \n",
    "        "
   ]
  },
  {
   "cell_type": "code",
   "execution_count": 98,
   "id": "a24b6fa8-7a6d-468a-baa0-66045d8a97be",
   "metadata": {},
   "outputs": [
    {
     "data": {
      "text/plain": [
       "[[1, 4, 2, 3],\n",
       " [1, 4, 5],\n",
       " [1, 2, 3, 4],\n",
       " [4, 4, 2],\n",
       " [4, 2, 4],\n",
       " [2, 3, 5],\n",
       " [2, 4, 4]]"
      ]
     },
     "execution_count": 98,
     "metadata": {},
     "output_type": "execute_result"
    }
   ],
   "source": [
    "subset([1,4,2,3,4,5],10)"
   ]
  },
  {
   "cell_type": "markdown",
   "id": "d0e26a60-0f89-4785-bad8-9f07b433eb7f",
   "metadata": {},
   "source": [
    "<h4>9. Given a non-empty string and a dictionary of words, write a recursive function to determine if the string can be\n",
    "segmented into a space-separated sequence of dictionary words.\n",
    "word_break( leetcode , [ leet , code ]) -> True"
   ]
  },
  {
   "cell_type": "code",
   "execution_count": 9,
   "id": "1e867311-c6ec-4d9a-8b97-af1ba05bc943",
   "metadata": {},
   "outputs": [],
   "source": [
    "def sub_word(word, wl):\n",
    "    if word in wl:\n",
    "        return True\n",
    "    else:\n",
    "        wlen = len(word)\n",
    "        for i in range(wlen):\n",
    "            if sub_word(word[:i],wl) and sub_word(word[i:],wl):\n",
    "                return True\n",
    "        \n",
    "    return False"
   ]
  },
  {
   "cell_type": "code",
   "execution_count": 10,
   "id": "2334e668-fddf-4a16-8abe-c5a2d711743f",
   "metadata": {},
   "outputs": [
    {
     "data": {
      "text/plain": [
       "True"
      ]
     },
     "execution_count": 10,
     "metadata": {},
     "output_type": "execute_result"
    }
   ],
   "source": [
    "wl = ['dar', 'shan']\n",
    "w = 'darshan'\n",
    "sub_word(w,wl)"
   ]
  },
  {
   "cell_type": "markdown",
   "id": "a48a40c0-95b3-4fdf-9759-f3a5428f7f73",
   "metadata": {},
   "source": [
    "<h4>Implement a recursive function to solve the N Queens problem, where you have to place N queens on an N×N\n",
    "chessboard in such a way that no two queens threaten each other."
   ]
  },
  {
   "cell_type": "code",
   "execution_count": 4,
   "id": "06126257-4a1c-4574-807b-3e79018e2c3b",
   "metadata": {},
   "outputs": [],
   "source": [
    "#fucntion to check placement\n",
    "def check_placement (board, row, column , n):\n",
    "    \n",
    "    \n",
    "    #check left\n",
    "    for i in range(column):\n",
    "        if board[row][i]==1:\n",
    "            return False\n",
    "    #check upper diagonal\n",
    "    for i,j in zip(range(row,-1,-1),range(column,-1,-1)):\n",
    "        if board[i][j]==1:\n",
    "            return False\n",
    "    \n",
    "    #check lower diagonal\n",
    "    for i,j in zip(range(row,n),range(column,-1,-1)):\n",
    "        if board[i][j]==1:\n",
    "            return False\n",
    "        \n",
    "    return True\n",
    "        \n",
    "        \n",
    "def place (board, column,n):\n",
    "    if column >= n:\n",
    "        return True\n",
    "    \n",
    "    for i in range (n):\n",
    "        if check_placement(board,i,column,n):\n",
    "            board[i][column]=1\n",
    "            \n",
    "            if place(board,column+1,n):\n",
    "                return True\n",
    "            \n",
    "            board[i][column]= 0\n",
    "            \n",
    "    return False\n",
    "\n",
    "def print_board(n):\n",
    "    board = [[0]*n for i in range(n)]\n",
    "    \n",
    "    if place(board,0,n):\n",
    "        for i in range(n):\n",
    "            for j in range (n):\n",
    "                if board[i][j] == 0:\n",
    "                    \n",
    "                    print ('*', end = \" \")\n",
    "                else :\n",
    "                    print ('Q', end = \" \")\n",
    "            print()\n",
    "    else:\n",
    "        return 'Solution does not exist'\n",
    "   "
   ]
  },
  {
   "cell_type": "code",
   "execution_count": 5,
   "id": "54a48ba6-c709-44a5-b776-cefc37d9cab4",
   "metadata": {},
   "outputs": [
    {
     "name": "stdout",
     "output_type": "stream",
     "text": [
      "* * Q * \n",
      "Q * * * \n",
      "* * * Q \n",
      "* Q * * \n"
     ]
    }
   ],
   "source": [
    "print_board(4)"
   ]
  },
  {
   "cell_type": "code",
   "execution_count": 6,
   "id": "b34dfe51-d48f-4f7e-9d38-4a6e5fa109be",
   "metadata": {},
   "outputs": [
    {
     "name": "stdout",
     "output_type": "stream",
     "text": [
      "Q * * * * * * * \n",
      "* * * * * * Q * \n",
      "* * * * Q * * * \n",
      "* * * * * * * Q \n",
      "* Q * * * * * * \n",
      "* * * Q * * * * \n",
      "* * * * * Q * * \n",
      "* * Q * * * * * \n"
     ]
    }
   ],
   "source": [
    "print_board(8)"
   ]
  },
  {
   "cell_type": "code",
   "execution_count": null,
   "id": "a7bb5ddd-e182-4b48-b971-9679ba60b116",
   "metadata": {},
   "outputs": [],
   "source": []
  }
 ],
 "metadata": {
  "kernelspec": {
   "display_name": "Python 3 (ipykernel)",
   "language": "python",
   "name": "python3"
  },
  "language_info": {
   "codemirror_mode": {
    "name": "ipython",
    "version": 3
   },
   "file_extension": ".py",
   "mimetype": "text/x-python",
   "name": "python",
   "nbconvert_exporter": "python",
   "pygments_lexer": "ipython3",
   "version": "3.10.8"
  }
 },
 "nbformat": 4,
 "nbformat_minor": 5
}
