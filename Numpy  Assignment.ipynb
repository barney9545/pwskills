{
 "cells": [
  {
   "cell_type": "markdown",
   "id": "9fb8714b-d030-46de-a9fc-bafd2ccd361c",
   "metadata": {},
   "source": [
    "<h4>1. What is a Python library? Why do we use Python libraries?"
   ]
  },
  {
   "cell_type": "markdown",
   "id": "2d779590-645d-4555-9712-7598259f6378",
   "metadata": {},
   "source": [
    "A Python library is a collection of pre-written and reusable code modules that provide a set of functionalities or services. These libraries contain functions, classes, and methods\n",
    "Libraries improve code reusability, modularity, efficienct. It creates a standardisation."
   ]
  },
  {
   "cell_type": "markdown",
   "id": "6676934d-9e22-4ab0-ab42-90e575ccd6a7",
   "metadata": {},
   "source": [
    "<h4>2. What is the difference between Numpy array and List?"
   ]
  },
  {
   "cell_type": "markdown",
   "id": "452f7509-abb2-4f48-8fc8-c6e80a01f8e5",
   "metadata": {},
   "source": [
    "Numpy array is stores homogenous data types while List can store different data types at once.\n",
    "Array has a contiguous memory allocation while a list has a non contiguous memory allocation"
   ]
  },
  {
   "cell_type": "markdown",
   "id": "83fff695-0152-4414-baae-4390ee5ba446",
   "metadata": {},
   "source": [
    "<h4>3. Find the shape, size and dimension of the following array?\n",
    "[[1, 2, 3, 4]\n",
    "[5, 6, 7, 8],\n",
    "[9, 10, 11, 12]]"
   ]
  },
  {
   "cell_type": "code",
   "execution_count": 1,
   "id": "8adb799c-6b7d-42c8-b279-4c59fbb0c195",
   "metadata": {
    "tags": []
   },
   "outputs": [],
   "source": [
    "import numpy as np"
   ]
  },
  {
   "cell_type": "code",
   "execution_count": 2,
   "id": "60443178-5d87-4c38-8ce6-744b4db72cde",
   "metadata": {
    "tags": []
   },
   "outputs": [
    {
     "data": {
      "text/plain": [
       "array([[ 1,  2,  3,  4],\n",
       "       [ 5,  6,  7,  8],\n",
       "       [ 9, 10, 11, 12]])"
      ]
     },
     "execution_count": 2,
     "metadata": {},
     "output_type": "execute_result"
    }
   ],
   "source": [
    "a= np.array([[1, 2, 3, 4],\n",
    "[5, 6, 7, 8],\n",
    "[9, 10, 11, 12]])\n",
    "a"
   ]
  },
  {
   "cell_type": "code",
   "execution_count": 3,
   "id": "96b973ba-7e36-454e-9c7a-242359d7bdcd",
   "metadata": {
    "tags": []
   },
   "outputs": [
    {
     "data": {
      "text/plain": [
       "(3, 4)"
      ]
     },
     "execution_count": 3,
     "metadata": {},
     "output_type": "execute_result"
    }
   ],
   "source": [
    "a.shape"
   ]
  },
  {
   "cell_type": "code",
   "execution_count": 4,
   "id": "f95a2980-3481-49bd-8d77-3d646c5d9a6a",
   "metadata": {
    "tags": []
   },
   "outputs": [
    {
     "data": {
      "text/plain": [
       "12"
      ]
     },
     "execution_count": 4,
     "metadata": {},
     "output_type": "execute_result"
    }
   ],
   "source": [
    "a.size"
   ]
  },
  {
   "cell_type": "markdown",
   "id": "5a7f9384-b683-4793-a674-c2777c74a95f",
   "metadata": {},
   "source": [
    "<h4>4. Write python code to access the first row of the following array?\n",
    "[[1, 2, 3, 4]\n",
    "[5, 6, 7, 8],\n",
    "[9, 10, 11, 12]]"
   ]
  },
  {
   "cell_type": "code",
   "execution_count": 5,
   "id": "3ece6c9f-4712-4dbd-8965-47cff1208fd2",
   "metadata": {},
   "outputs": [
    {
     "data": {
      "text/plain": [
       "array([[1, 2, 3, 4]])"
      ]
     },
     "execution_count": 5,
     "metadata": {},
     "output_type": "execute_result"
    }
   ],
   "source": [
    "a[0:1]"
   ]
  },
  {
   "cell_type": "markdown",
   "id": "9b825164-a8e5-4981-94b7-aec9aabe4a59",
   "metadata": {},
   "source": [
    "<h4>5. How do you access the element at the third row and fourth column from the given numpy array?\n",
    "[[1, 2, 3, 4]\n",
    "[5, 6, 7, 8],\n",
    "[9, 10, 11, 12]]"
   ]
  },
  {
   "cell_type": "code",
   "execution_count": 6,
   "id": "b087575c-0c3c-4f10-af4e-a71784edb5e0",
   "metadata": {},
   "outputs": [
    {
     "data": {
      "text/plain": [
       "12"
      ]
     },
     "execution_count": 6,
     "metadata": {},
     "output_type": "execute_result"
    }
   ],
   "source": [
    "a[2][3]"
   ]
  },
  {
   "cell_type": "markdown",
   "id": "4e639d45-533c-433c-8ea4-fb4900739910",
   "metadata": {},
   "source": [
    "<h4>6. Write code to extract all odd-indexed elements from the given numpy array?\n",
    "[[1, 2, 3, 4]\n",
    "[5, 6, 7, 8],\n",
    "[9, 10, 11, 12]]"
   ]
  },
  {
   "cell_type": "code",
   "execution_count": 7,
   "id": "9204e2f2-1d4c-42c2-80e6-58aa111ac699",
   "metadata": {},
   "outputs": [
    {
     "data": {
      "text/plain": [
       "array([[ 2,  4],\n",
       "       [ 6,  8],\n",
       "       [10, 12]])"
      ]
     },
     "execution_count": 7,
     "metadata": {},
     "output_type": "execute_result"
    }
   ],
   "source": [
    "a[:,1::2]"
   ]
  },
  {
   "cell_type": "markdown",
   "id": "57f789bd-977f-4807-b6eb-3a9ea20f3415",
   "metadata": {},
   "source": [
    "<h4>7. How can you generate a random 3x3 matrix with values between 0 and 1?"
   ]
  },
  {
   "cell_type": "code",
   "execution_count": 8,
   "id": "2b615001-7284-43e5-b03a-7500e0d0c2f4",
   "metadata": {},
   "outputs": [
    {
     "data": {
      "text/plain": [
       "array([[0.126297  , 0.94115874, 0.15288145],\n",
       "       [0.19278893, 0.24917725, 0.98064942],\n",
       "       [0.88246825, 0.64454018, 0.48016567]])"
      ]
     },
     "execution_count": 8,
     "metadata": {},
     "output_type": "execute_result"
    }
   ],
   "source": [
    "import random\n",
    "\n",
    "b= np.random.rand(3,3)\n",
    "b"
   ]
  },
  {
   "cell_type": "markdown",
   "id": "cff0370f-0d0d-4344-a074-6f7f1db063e1",
   "metadata": {},
   "source": [
    "<h4>8. Describe the difference between np.random.rand and np.random.randn?"
   ]
  },
  {
   "cell_type": "markdown",
   "id": "0d1602d0-9217-4f63-9538-c5fe710d736a",
   "metadata": {},
   "source": [
    "np.random.rand gives random numbers between 0 and 1 while np.random.randn give normalised random numbers which would fit in the bell curve."
   ]
  },
  {
   "cell_type": "markdown",
   "id": "0d5fea80-269b-4378-b402-c416ecc89461",
   "metadata": {},
   "source": [
    "<h4> 9. Write code to increase the dimension of the following array?\n",
    "[[1, 2, 3, 4]\n",
    "[5, 6, 7, 8],\n",
    "[9, 10, 11, 12]]"
   ]
  },
  {
   "cell_type": "code",
   "execution_count": 9,
   "id": "5d95d9e1-b140-448d-b9fb-c113f43b3e72",
   "metadata": {},
   "outputs": [
    {
     "data": {
      "text/plain": [
       "array([[ 1,  2,  3,  4],\n",
       "       [ 5,  6,  7,  8],\n",
       "       [ 9, 10, 11, 12]])"
      ]
     },
     "execution_count": 9,
     "metadata": {},
     "output_type": "execute_result"
    }
   ],
   "source": [
    "a= np.array([[1, 2, 3, 4],\n",
    "[5, 6, 7, 8],\n",
    "[9, 10, 11, 12]])\n",
    "a"
   ]
  },
  {
   "cell_type": "code",
   "execution_count": 10,
   "id": "87f98295-1fb1-4036-87de-918a5a6b5890",
   "metadata": {},
   "outputs": [
    {
     "data": {
      "text/plain": [
       "(3, 1, 4)"
      ]
     },
     "execution_count": 10,
     "metadata": {},
     "output_type": "execute_result"
    }
   ],
   "source": [
    "c= np.expand_dims(a, axis = 1)\n",
    "c.shape"
   ]
  },
  {
   "cell_type": "code",
   "execution_count": 11,
   "id": "72450307-81e4-4f00-b626-6cc65e918986",
   "metadata": {},
   "outputs": [
    {
     "data": {
      "text/plain": [
       "array([[[ 1,  2,  3,  4]],\n",
       "\n",
       "       [[ 5,  6,  7,  8]],\n",
       "\n",
       "       [[ 9, 10, 11, 12]]])"
      ]
     },
     "execution_count": 11,
     "metadata": {},
     "output_type": "execute_result"
    }
   ],
   "source": [
    "c"
   ]
  },
  {
   "cell_type": "markdown",
   "id": "fac91436-2641-4b72-a1c8-d75f5b6eb229",
   "metadata": {},
   "source": [
    "<h4>10. How to transpose the following array in NumPy?\n",
    "[[1, 2, 3, 4]\n",
    "[5, 6, 7, 8],\n",
    "[9, 10, 11, 12]]"
   ]
  },
  {
   "cell_type": "code",
   "execution_count": 12,
   "id": "34e62a66-1a1a-4d70-a775-7df060003be4",
   "metadata": {},
   "outputs": [
    {
     "data": {
      "text/plain": [
       "array([[ 1,  2,  3,  4],\n",
       "       [ 5,  6,  7,  8],\n",
       "       [ 9, 10, 11, 12]])"
      ]
     },
     "execution_count": 12,
     "metadata": {},
     "output_type": "execute_result"
    }
   ],
   "source": [
    "a= np.array([[1, 2, 3, 4],\n",
    "[5, 6, 7, 8],\n",
    "[9, 10, 11, 12]])\n",
    "a"
   ]
  },
  {
   "cell_type": "code",
   "execution_count": 13,
   "id": "7a93d3bc-c084-4568-95ff-f9fe14b3f0a7",
   "metadata": {},
   "outputs": [
    {
     "data": {
      "text/plain": [
       "array([[ 1,  5,  9],\n",
       "       [ 2,  6, 10],\n",
       "       [ 3,  7, 11],\n",
       "       [ 4,  8, 12]])"
      ]
     },
     "execution_count": 13,
     "metadata": {},
     "output_type": "execute_result"
    }
   ],
   "source": [
    "a.T"
   ]
  },
  {
   "cell_type": "markdown",
   "id": "0897347d-9d45-41d0-90f8-bf903752cb5a",
   "metadata": {},
   "source": [
    "<h3>11.Consi^er the following matrix: \n",
    "<br>Matrix A= [[1, 2, 3, 4] [5, 6, 7, 8],[9, 10, 11, 12]]\n",
    "<br>Matrix B= [[1, 2, 3, 4] [5, 6, 7, 8],[9, 10, 11, 12]]"
   ]
  },
  {
   "cell_type": "code",
   "execution_count": 14,
   "id": "e168fae1-d964-413f-ae0f-f0ac4265e3df",
   "metadata": {},
   "outputs": [
    {
     "name": "stdout",
     "output_type": "stream",
     "text": [
      "[[ 1  2  3  4]\n",
      " [ 5  6  7  8]\n",
      " [ 9 10 11 12]] \n",
      "########\n",
      " [[ 1  2  3  4]\n",
      " [ 5  6  7  8]\n",
      " [ 9 10 11 12]]\n"
     ]
    }
   ],
   "source": [
    "\n",
    "matrix_a = np.array([[1, 2, 3, 4] ,[5, 6, 7, 8],[9, 10, 11, 12]])\n",
    "matrix_b = np.array([[1, 2, 3, 4] ,[5, 6, 7, 8],[9, 10, 11, 12]])\n",
    "print (matrix_a,'\\n''########''\\n',matrix_b)"
   ]
  },
  {
   "cell_type": "code",
   "execution_count": 15,
   "id": "0d08ba06-80dd-4673-9f26-cd7cfa529c9b",
   "metadata": {},
   "outputs": [
    {
     "data": {
      "text/plain": [
       "array([[  1,   4,   9,  16],\n",
       "       [ 25,  36,  49,  64],\n",
       "       [ 81, 100, 121, 144]])"
      ]
     },
     "execution_count": 15,
     "metadata": {},
     "output_type": "execute_result"
    }
   ],
   "source": [
    "#Index wiLe multiplication\n",
    "matrix_a*matrix_b"
   ]
  },
  {
   "cell_type": "code",
   "execution_count": 16,
   "id": "521ceade-55f5-47a5-90ac-a3a1c306c529",
   "metadata": {},
   "outputs": [
    {
     "data": {
      "text/plain": [
       "array([[ 70,  80,  90],\n",
       "       [158, 184, 210],\n",
       "       [246, 288, 330]])"
      ]
     },
     "execution_count": 16,
     "metadata": {},
     "output_type": "execute_result"
    }
   ],
   "source": [
    "#Matix multiplication\n",
    "matrix_c= np.reshape(matrix_b,(4,3))\n",
    "np.dot(matrix_a,matrix_c)"
   ]
  },
  {
   "cell_type": "code",
   "execution_count": 17,
   "id": "39050108-a187-4739-bb08-dc4a0ca32d85",
   "metadata": {},
   "outputs": [
    {
     "data": {
      "text/plain": [
       "array([[ 2,  4,  6,  8],\n",
       "       [10, 12, 14, 16],\n",
       "       [18, 20, 22, 24]])"
      ]
     },
     "execution_count": 17,
     "metadata": {},
     "output_type": "execute_result"
    }
   ],
   "source": [
    "#Add both the matrix\n",
    "matrix_a+matrix_b"
   ]
  },
  {
   "cell_type": "code",
   "execution_count": 18,
   "id": "2376591c-314c-4942-abea-5c614d35419e",
   "metadata": {},
   "outputs": [
    {
     "data": {
      "text/plain": [
       "array([[0, 0, 0, 0],\n",
       "       [0, 0, 0, 0],\n",
       "       [0, 0, 0, 0]])"
      ]
     },
     "execution_count": 18,
     "metadata": {},
     "output_type": "execute_result"
    }
   ],
   "source": [
    "#Subtact matix B from matrix A\n",
    "matrix_b-matrix_a"
   ]
  },
  {
   "cell_type": "code",
   "execution_count": 19,
   "id": "caa8a7a3-7c5e-4be1-891b-ce21b5e74aaa",
   "metadata": {},
   "outputs": [
    {
     "data": {
      "text/plain": [
       "array([[1., 1., 1., 1.],\n",
       "       [1., 1., 1., 1.],\n",
       "       [1., 1., 1., 1.]])"
      ]
     },
     "execution_count": 19,
     "metadata": {},
     "output_type": "execute_result"
    }
   ],
   "source": [
    "#Divide Matix B by A\n",
    "matrix_b/matrix_a"
   ]
  },
  {
   "cell_type": "markdown",
   "id": "45d9c053-e9b9-4ca2-b3cd-a85c4ea2c980",
   "metadata": {},
   "source": [
    "<h4>12. Which function in Numpy can be used to swap the byte order of an array?"
   ]
  },
  {
   "cell_type": "code",
   "execution_count": 20,
   "id": "935123dc-4194-40a9-9639-0278010db86d",
   "metadata": {},
   "outputs": [
    {
     "data": {
      "text/plain": [
       "array([[ 72057594037927936, 144115188075855872, 216172782113783808,\n",
       "        288230376151711744],\n",
       "       [360287970189639680, 432345564227567616, 504403158265495552,\n",
       "        576460752303423488],\n",
       "       [648518346341351424, 720575940379279360, 792633534417207296,\n",
       "        864691128455135232]])"
      ]
     },
     "execution_count": 20,
     "metadata": {},
     "output_type": "execute_result"
    }
   ],
   "source": [
    "#byteswap\n",
    "matrix_a.byteswap()"
   ]
  },
  {
   "cell_type": "markdown",
   "id": "268b0b45-3e52-47bb-ae7e-983ecc628dc7",
   "metadata": {},
   "source": [
    "<h4>13. What is the significance of the np.linalg.inv function?"
   ]
  },
  {
   "cell_type": "code",
   "execution_count": 21,
   "id": "2dcc060d-b38d-4fcc-89f5-43a0df272380",
   "metadata": {},
   "outputs": [],
   "source": [
    "#it helps us to find the inverse of a matrix"
   ]
  },
  {
   "cell_type": "markdown",
   "id": "4c83db0c-3229-44e7-bdab-1f10d8c06531",
   "metadata": {},
   "source": [
    "<h4>14. What does the np.reshape function do, and how is it used?"
   ]
  },
  {
   "cell_type": "code",
   "execution_count": 23,
   "id": "95af9d72-c84e-47bc-8617-0f8a95df640f",
   "metadata": {},
   "outputs": [
    {
     "data": {
      "text/plain": [
       "array([[ 1,  2,  3],\n",
       "       [ 4,  5,  6],\n",
       "       [ 7,  8,  9],\n",
       "       [10, 11, 12]])"
      ]
     },
     "execution_count": 23,
     "metadata": {},
     "output_type": "execute_result"
    }
   ],
   "source": [
    "# it is used to chande the shape of an array. While reshaping the size of the matrix should be the same\n",
    "matrix_c= np.reshape(matrix_b,(4,3))\n",
    "matrix_c"
   ]
  },
  {
   "cell_type": "markdown",
   "id": "4ae1babb-33b2-4f37-9065-edeb158a55ec",
   "metadata": {},
   "source": [
    "<h4>15. What is broa^casting in Numpy?"
   ]
  },
  {
   "cell_type": "code",
   "execution_count": null,
   "id": "446e0bf2-8d05-4cdd-8794-2407c70b74b3",
   "metadata": {},
   "outputs": [],
   "source": [
    "#  broadcasting allows you to add them together element-wise as if the smaller array were copied along a new axis to match the shape of the larger array."
   ]
  }
 ],
 "metadata": {
  "kernelspec": {
   "display_name": "Python 3 (ipykernel)",
   "language": "python",
   "name": "python3"
  },
  "language_info": {
   "codemirror_mode": {
    "name": "ipython",
    "version": 3
   },
   "file_extension": ".py",
   "mimetype": "text/x-python",
   "name": "python",
   "nbconvert_exporter": "python",
   "pygments_lexer": "ipython3",
   "version": "3.10.8"
  }
 },
 "nbformat": 4,
 "nbformat_minor": 5
}
